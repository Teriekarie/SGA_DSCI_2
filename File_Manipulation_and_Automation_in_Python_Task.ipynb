{
  "cells": [
    {
      "cell_type": "markdown",
      "metadata": {
        "id": "view-in-github",
        "colab_type": "text"
      },
      "source": [
        "<a href=\"https://colab.research.google.com/github/Teriekarie/SGA_DSCI_2/blob/main/File_Manipulation_and_Automation_in_Python_Task.ipynb\" target=\"_parent\"><img src=\"https://colab.research.google.com/assets/colab-badge.svg\" alt=\"Open In Colab\"/></a>"
      ]
    },
    {
      "cell_type": "code",
      "source": [
        "from google.colab import drive\n",
        "drive.mount('/content/drive')"
      ],
      "metadata": {
        "colab": {
          "base_uri": "https://localhost:8080/"
        },
        "id": "6L6PicwJeJJX",
        "outputId": "a0b08298-f49f-402a-c9be-9dd6aff997e2"
      },
      "id": "6L6PicwJeJJX",
      "execution_count": 2,
      "outputs": [
        {
          "output_type": "stream",
          "name": "stdout",
          "text": [
            "Mounted at /content/drive\n"
          ]
        }
      ]
    },
    {
      "cell_type": "markdown",
      "source": [
        "Importing dependcies"
      ],
      "metadata": {
        "id": "gsXMRBqhe5UJ"
      },
      "id": "gsXMRBqhe5UJ"
    },
    {
      "cell_type": "code",
      "execution_count": 3,
      "id": "9cc8fab9",
      "metadata": {
        "id": "9cc8fab9"
      },
      "outputs": [],
      "source": [
        "import requests\n",
        "import os\n",
        "import shutil"
      ]
    },
    {
      "cell_type": "markdown",
      "id": "ebb9a2a9",
      "metadata": {
        "id": "ebb9a2a9"
      },
      "source": [
        "##### Here is a collection of  url to top 89 movies stored in a list object\n",
        "\n"
      ]
    },
    {
      "cell_type": "code",
      "execution_count": 4,
      "id": "b5506e1b",
      "metadata": {
        "id": "b5506e1b"
      },
      "outputs": [],
      "source": [
        "ebert_review_urls = ['https://d17h27t6h515a5.cloudfront.net/topher/2017/September/59ad9900_1-the-wizard-of-oz-1939-film/1-the-wizard-of-oz-1939-film.txt',\n",
        "                     'https://d17h27t6h515a5.cloudfront.net/topher/2017/September/59ad9901_2-citizen-kane/2-citizen-kane.txt',\n",
        "                     'https://d17h27t6h515a5.cloudfront.net/topher/2017/September/59ad9901_3-the-third-man/3-the-third-man.txt',\n",
        "                     'https://d17h27t6h515a5.cloudfront.net/topher/2017/September/59ad9902_4-get-out-film/4-get-out-film.txt',\n",
        "                     'https://d17h27t6h515a5.cloudfront.net/topher/2017/September/59ad9902_5-mad-max-fury-road/5-mad-max-fury-road.txt',\n",
        "                     'https://d17h27t6h515a5.cloudfront.net/topher/2017/September/59ad9902_6-the-cabinet-of-dr.-caligari/6-the-cabinet-of-dr.-caligari.txt',\n",
        "                     'https://d17h27t6h515a5.cloudfront.net/topher/2017/September/59ad9903_7-all-about-eve/7-all-about-eve.txt',\n",
        "                     'https://d17h27t6h515a5.cloudfront.net/topher/2017/September/59ad9903_8-inside-out-2015-film/8-inside-out-2015-film.txt',\n",
        "                     'https://d17h27t6h515a5.cloudfront.net/topher/2017/September/59ad9903_9-the-godfather/9-the-godfather.txt',\n",
        "                     'https://d17h27t6h515a5.cloudfront.net/topher/2017/September/59ad9904_10-metropolis-1927-film/10-metropolis-1927-film.txt',\n",
        "                     'https://d17h27t6h515a5.cloudfront.net/topher/2017/September/59ad9904_11-e.t.-the-extra-terrestrial/11-e.t.-the-extra-terrestrial.txt',\n",
        "                     'https://d17h27t6h515a5.cloudfront.net/topher/2017/September/59ad9904_12-modern-times-film/12-modern-times-film.txt',\n",
        "                     'https://d17h27t6h515a5.cloudfront.net/topher/2017/September/59ad9904_14-singin-in-the-rain/14-singin-in-the-rain.txt',\n",
        "                     'https://d17h27t6h515a5.cloudfront.net/topher/2017/September/59ad9905_15-boyhood-film/15-boyhood-film.txt',\n",
        "                     'https://d17h27t6h515a5.cloudfront.net/topher/2017/September/59ad9905_16-casablanca-film/16-casablanca-film.txt',\n",
        "                     'https://d17h27t6h515a5.cloudfront.net/topher/2017/September/59ad9905_17-moonlight-2016-film/17-moonlight-2016-film.txt',\n",
        "                     'https://d17h27t6h515a5.cloudfront.net/topher/2017/September/59ad9906_18-psycho-1960-film/18-psycho-1960-film.txt',\n",
        "                     'https://d17h27t6h515a5.cloudfront.net/topher/2017/September/59ad9906_19-laura-1944-film/19-laura-1944-film.txt',\n",
        "                     'https://d17h27t6h515a5.cloudfront.net/topher/2017/September/59ad9906_20-nosferatu/20-nosferatu.txt',\n",
        "                     'https://d17h27t6h515a5.cloudfront.net/topher/2017/September/59ad9907_21-snow-white-and-the-seven-dwarfs-1937-film/21-snow-white-and-the-seven-dwarfs-1937-film.txt',\n",
        "                     'https://d17h27t6h515a5.cloudfront.net/topher/2017/September/59ad9907_22-a-hard-day27s-night-film/22-a-hard-day27s-night-film.txt',\n",
        "                     'https://d17h27t6h515a5.cloudfront.net/topher/2017/September/59ad9907_23-la-grande-illusion/23-la-grande-illusion.txt',\n",
        "                     'https://d17h27t6h515a5.cloudfront.net/topher/2017/September/59ad9908_25-the-battle-of-algiers/25-the-battle-of-algiers.txt',\n",
        "                     'https://d17h27t6h515a5.cloudfront.net/topher/2017/September/59ad9908_26-dunkirk-2017-film/26-dunkirk-2017-film.txt',\n",
        "                     'https://d17h27t6h515a5.cloudfront.net/topher/2017/September/59ad9908_27-the-maltese-falcon-1941-film/27-the-maltese-falcon-1941-film.txt',\n",
        "                     'https://d17h27t6h515a5.cloudfront.net/topher/2017/September/59ad9909_29-12-years-a-slave-film/29-12-years-a-slave-film.txt',\n",
        "                     'https://d17h27t6h515a5.cloudfront.net/topher/2017/September/59ad9909_30-gravity-2013-film/30-gravity-2013-film.txt',\n",
        "                     'https://d17h27t6h515a5.cloudfront.net/topher/2017/September/59ad9909_31-sunset-boulevard-film/31-sunset-boulevard-film.txt',\n",
        "                     'https://d17h27t6h515a5.cloudfront.net/topher/2017/September/59ad990a_32-king-kong-1933-film/32-king-kong-1933-film.txt',\n",
        "                     'https://d17h27t6h515a5.cloudfront.net/topher/2017/September/59ad990a_33-spotlight-film/33-spotlight-film.txt',\n",
        "                     'https://d17h27t6h515a5.cloudfront.net/topher/2017/September/59ad990a_34-the-adventures-of-robin-hood/34-the-adventures-of-robin-hood.txt',\n",
        "                     'https://d17h27t6h515a5.cloudfront.net/topher/2017/September/59ad990b_35-rashomon/35-rashomon.txt',\n",
        "                     'https://d17h27t6h515a5.cloudfront.net/topher/2017/September/59ad990b_36-rear-window/36-rear-window.txt',\n",
        "                     'https://d17h27t6h515a5.cloudfront.net/topher/2017/September/59ad990b_37-selma-film/37-selma-film.txt',\n",
        "                     'https://d17h27t6h515a5.cloudfront.net/topher/2017/September/59ad990c_38-taxi-driver/38-taxi-driver.txt',\n",
        "                     'https://d17h27t6h515a5.cloudfront.net/topher/2017/September/59ad990c_39-toy-story-3/39-toy-story-3.txt',\n",
        "                     'https://d17h27t6h515a5.cloudfront.net/topher/2017/September/59ad990c_40-argo-2012-film/40-argo-2012-film.txt',\n",
        "                     'https://d17h27t6h515a5.cloudfront.net/topher/2017/September/59ad990d_41-toy-story-2/41-toy-story-2.txt',\n",
        "                     'https://d17h27t6h515a5.cloudfront.net/topher/2017/September/59ad990d_42-the-big-sick/42-the-big-sick.txt',\n",
        "                     'https://d17h27t6h515a5.cloudfront.net/topher/2017/September/59ad990d_43-bride-of-frankenstein/43-bride-of-frankenstein.txt',\n",
        "                     'https://d17h27t6h515a5.cloudfront.net/topher/2017/September/59ad990d_44-zootopia/44-zootopia.txt',\n",
        "                     'https://d17h27t6h515a5.cloudfront.net/topher/2017/September/59ad990e_45-m-1931-film/45-m-1931-film.txt',\n",
        "                     'https://d17h27t6h515a5.cloudfront.net/topher/2017/September/59ad990e_46-wonder-woman-2017-film/46-wonder-woman-2017-film.txt',\n",
        "                     'https://d17h27t6h515a5.cloudfront.net/topher/2017/September/59ad990e_48-alien-film/48-alien-film.txt',\n",
        "                     'https://d17h27t6h515a5.cloudfront.net/topher/2017/September/59ad990f_49-bicycle-thieves/49-bicycle-thieves.txt',\n",
        "                     'https://d17h27t6h515a5.cloudfront.net/topher/2017/September/59ad990f_50-seven-samurai/50-seven-samurai.txt',\n",
        "                     'https://d17h27t6h515a5.cloudfront.net/topher/2017/September/59ad990f_51-the-treasure-of-the-sierra-madre-film/51-the-treasure-of-the-sierra-madre-film.txt',\n",
        "                     'https://d17h27t6h515a5.cloudfront.net/topher/2017/September/59ad9910_52-up-2009-film/52-up-2009-film.txt',\n",
        "                     'https://d17h27t6h515a5.cloudfront.net/topher/2017/September/59ad9910_53-12-angry-men-1957-film/53-12-angry-men-1957-film.txt',\n",
        "                     'https://d17h27t6h515a5.cloudfront.net/topher/2017/September/59ad9910_54-the-400-blows/54-the-400-blows.txt',\n",
        "                     'https://d17h27t6h515a5.cloudfront.net/topher/2017/September/59ad9911_55-logan-film/55-logan-film.txt',\n",
        "                     'https://d17h27t6h515a5.cloudfront.net/topher/2017/September/59ad9911_57-army-of-shadows/57-army-of-shadows.txt',\n",
        "                     'https://d17h27t6h515a5.cloudfront.net/topher/2017/September/59ad9912_58-arrival-film/58-arrival-film.txt',\n",
        "                     'https://d17h27t6h515a5.cloudfront.net/topher/2017/September/59ad9912_59-baby-driver/59-baby-driver.txt',\n",
        "                     'https://d17h27t6h515a5.cloudfront.net/topher/2017/September/59ad9913_60-a-streetcar-named-desire-1951-film/60-a-streetcar-named-desire-1951-film.txt',\n",
        "                     'https://d17h27t6h515a5.cloudfront.net/topher/2017/September/59ad9913_61-the-night-of-the-hunter-film/61-the-night-of-the-hunter-film.txt',\n",
        "                     'https://d17h27t6h515a5.cloudfront.net/topher/2017/September/59ad9913_62-star-wars-the-force-awakens/62-star-wars-the-force-awakens.txt',\n",
        "                     'https://d17h27t6h515a5.cloudfront.net/topher/2017/September/59ad9913_63-manchester-by-the-sea-film/63-manchester-by-the-sea-film.txt',\n",
        "                     'https://d17h27t6h515a5.cloudfront.net/topher/2017/September/59ad9914_64-dr.-strangelove/64-dr.-strangelove.txt',\n",
        "                     'https://d17h27t6h515a5.cloudfront.net/topher/2017/September/59ad9914_66-vertigo-film/66-vertigo-film.txt',\n",
        "                     'https://d17h27t6h515a5.cloudfront.net/topher/2017/September/59ad9914_67-the-dark-knight-film/67-the-dark-knight-film.txt',\n",
        "                     'https://d17h27t6h515a5.cloudfront.net/topher/2017/September/59ad9915_68-touch-of-evil/68-touch-of-evil.txt',\n",
        "                     'https://d17h27t6h515a5.cloudfront.net/topher/2017/September/59ad9915_69-the-babadook/69-the-babadook.txt',\n",
        "                     'https://d17h27t6h515a5.cloudfront.net/topher/2017/September/59ad9915_72-rosemary27s-baby-film/72-rosemary27s-baby-film.txt',\n",
        "                     'https://d17h27t6h515a5.cloudfront.net/topher/2017/September/59ad9916_73-finding-nemo/73-finding-nemo.txt',\n",
        "                     'https://d17h27t6h515a5.cloudfront.net/topher/2017/September/59ad9916_74-brooklyn-film/74-brooklyn-film.txt',\n",
        "                     'https://d17h27t6h515a5.cloudfront.net/topher/2017/September/59ad9917_75-the-wrestler-2008-film/75-the-wrestler-2008-film.txt',\n",
        "                     'https://d17h27t6h515a5.cloudfront.net/topher/2017/September/59ad9917_77-l.a.-confidential-film/77-l.a.-confidential-film.txt',\n",
        "                     'https://d17h27t6h515a5.cloudfront.net/topher/2017/September/59ad9918_78-gone-with-the-wind-film/78-gone-with-the-wind-film.txt',\n",
        "                     'https://d17h27t6h515a5.cloudfront.net/topher/2017/September/59ad9918_79-the-good-the-bad-and-the-ugly/79-the-good-the-bad-and-the-ugly.txt',\n",
        "                     'https://d17h27t6h515a5.cloudfront.net/topher/2017/September/59ad9918_80-skyfall/80-skyfall.txt',\n",
        "                     'https://d17h27t6h515a5.cloudfront.net/topher/2017/September/59ad9919_82-tokyo-story/82-tokyo-story.txt',\n",
        "                     'https://d17h27t6h515a5.cloudfront.net/topher/2017/September/59ad9919_83-hell-or-high-water-film/83-hell-or-high-water-film.txt',\n",
        "                     'https://d17h27t6h515a5.cloudfront.net/topher/2017/September/59ad9919_84-pinocchio-1940-film/84-pinocchio-1940-film.txt',\n",
        "                     'https://d17h27t6h515a5.cloudfront.net/topher/2017/September/59ad9919_85-the-jungle-book-2016-film/85-the-jungle-book-2016-film.txt',\n",
        "                     'https://d17h27t6h515a5.cloudfront.net/topher/2017/September/59ad991a_86-la-la-land-film/86-la-la-land-film.txt',\n",
        "                     'https://d17h27t6h515a5.cloudfront.net/topher/2017/September/59ad991b_87-star-trek-film/87-star-trek-film.txt',\n",
        "                     'https://d17h27t6h515a5.cloudfront.net/topher/2017/September/59ad991b_89-apocalypse-now/89-apocalypse-now.txt',\n",
        "                     'https://d17h27t6h515a5.cloudfront.net/topher/2017/September/59ad991c_90-on-the-waterfront/90-on-the-waterfront.txt',\n",
        "                     'https://d17h27t6h515a5.cloudfront.net/topher/2017/September/59ad991c_91-the-wages-of-fear/91-the-wages-of-fear.txt',\n",
        "                     'https://d17h27t6h515a5.cloudfront.net/topher/2017/September/59ad991c_92-the-last-picture-show/92-the-last-picture-show.txt',\n",
        "                     'https://d17h27t6h515a5.cloudfront.net/topher/2017/September/59ad991d_93-harry-potter-and-the-deathly-hallows-part-2/93-harry-potter-and-the-deathly-hallows-part-2.txt',\n",
        "                     'https://d17h27t6h515a5.cloudfront.net/topher/2017/September/59ad991d_94-the-grapes-of-wrath-film/94-the-grapes-of-wrath-film.txt',\n",
        "                     'https://d17h27t6h515a5.cloudfront.net/topher/2017/September/59ad991d_96-man-on-wire/96-man-on-wire.txt',\n",
        "                     'https://d17h27t6h515a5.cloudfront.net/topher/2017/September/59ad991e_97-jaws-film/97-jaws-film.txt',\n",
        "                     'https://d17h27t6h515a5.cloudfront.net/topher/2017/September/59ad991e_98-toy-story/98-toy-story.txt',\n",
        "                     'https://d17h27t6h515a5.cloudfront.net/topher/2017/September/59ad991e_99-the-godfather-part-ii/99-the-godfather-part-ii.txt',\n",
        "                     'https://d17h27t6h515a5.cloudfront.net/topher/2017/September/59ad991e_100-battleship-potemkin/100-battleship-potemkin.txt']"
      ]
    },
    {
      "cell_type": "code",
      "source": [
        "folder = ebert_review_urls # creating a variable called \"folder\" for my urls\n",
        "os.mkdir(\"folder\")        # created a folder to house all the files\n",
        "for url in folder:        # iterating through the whole urls in the folder \n",
        "    response = requests.get(url) # requesting to extract all the content from the urls\n",
        "    rc = response.content       \n",
        "    with open(os.path.join('folder',url.split(\"/\")[-1]), 'wb') as eb: # writing all the extracted contents in each url to a separate file\n",
        "        eb.write(rc)"
      ],
      "metadata": {
        "id": "5bbDY6PWT1XE"
      },
      "id": "5bbDY6PWT1XE",
      "execution_count": 8,
      "outputs": []
    },
    {
      "cell_type": "code",
      "source": [
        "if response.ok:\n",
        "    print(\"Upload completed successfully!\")\n",
        "    print(response.text)\n",
        "else:\n",
        "    print(\"Something went wrong!\")"
      ],
      "metadata": {
        "id": "gcVx_VpkUilj",
        "colab": {
          "base_uri": "https://localhost:8080/"
        },
        "outputId": "b986e4d4-5f27-44c4-fc78-851116552901"
      },
      "id": "gcVx_VpkUilj",
      "execution_count": 9,
      "outputs": [
        {
          "output_type": "stream",
          "name": "stdout",
          "text": [
            "Upload completed successfully!\n",
            "Battleship Potemkin (1925)\n",
            "http://www.rogerebert.com/reviews/great-movie-the-battleship-potemkin-1925\n",
            "\"The Battleship Potemkin” has been so famous for so long that it is almost impossible to come to it with a fresh eye. It is one of the fundamental landmarks of cinema. Its famous massacre on the Odessa Steps has been quoted so many times in other films (notably in “The Untouchables”) that it's likely many viewers will have seen the parody before they see the original. The film once had such power that it was banned in many nations, including its native Soviet Union. Governments actually believed it could incite audiences to action. If today it seems more like a technically brilliant but simplistic “cartoon” (Pauline Kael's description in a favorable review), that may be because it has worn out its element of surprise--that, like the 23rd Psalm or Beethoven's Fifth, it has become so familiar we cannot perceive it for what it is.\n",
            "\n",
            "Having said that, let me say that “Potemkin,” which I have seen many times and taught using a shot-by-shot approach, did come alive for me the other night, in an unexpected time and place. The movie was projected on a big screen hanging from the outside wall of the Vickers Theater in Three Oaks, Mich., and some 300 citizens settled into their folding chairs in the parking lot to have a look at it. The simultaneous musical accompaniment was by Concrete, a southwestern Michigan band. Under the stars on a balmy summer night, far from film festivals and cinematheques, Sergei Eisenstein's 1925 revolutionary call generated some of its legendary rabble-rousing power.\n",
            "\n",
            "It's not that anybody stood up and sang “The Internationale.” The folding chairs for this classic exercise in Soviet propaganda were on loan from the local Catholic church. Some audience members no doubt drove over to Oink's in New Buffalo afterward for ice cream cones. But the film did have headlong momentum, thrilling juxtapositions and genuine power to move--most especially during the Odessa Steps sequence, which had some viewers gasping out loud.\n",
            "\n",
            "The movie was ordered up by the Russian revolutionary leadership for the 20th anniversary of the Potemkin uprising, which Lenin had hailed as the first proof that troops could be counted on to join the proletariat in overthrowing the old order.\n",
            "\n",
            "As sketched by Eisenstein's film, the crew members of the battleship, cruising the Black Sea after returning from the war with Japan, are mutinous because of poor rations. There is a famous closeup of their breakfast meat, crawling with maggots. After officers throw a tarpaulin over the rebellious ones and order them to be shot, a firebrand named Vakulinchuk cries out, “Brothers! Who are you shooting at?” The firing squad lowers its guns, and when an officer unwisely tries to enforce his command, full-blown mutiny takes over the ship.\n",
            "\n",
            "Onshore, news of the uprising reaches citizens who have long suffered under czarist repression. They send food and water out to the battleship in a flotilla of skiffs. Then, in one of the most famous sequences ever put on film, czarist troops march down a long flight of steps, firing on the citizens who flee before them in a terrified tide. Countless innocents are killed, and the massacre is summed up in the image of a woman shot dead trying to protect her baby in a carriage--which then bounces down the steps, out of control.\n",
            "\n",
            "That there was, in fact, no czarist massacre on the Odessa Steps scarcely diminishes the power of the scene. The czar's troops shot innocent civilians elsewhere in Odessa, and Eisenstein, in concentrating those killings and finding the perfect setting for them, was doing his job as a director. It is ironic that he did it so well that today, the bloodshed on the Odessa Steps is often referred to as if it really happened.\n",
            "\n",
            "News of the uprising reaches the Russian fleet, which speeds toward Odessa to put it down. The Potemkin and a destroyer, also commanded by revolutionaries, steam out to meet them. Eisenstein creates tension by cutting between the approach fleet, the brave Potemkin, and details of the onboard preparation. At the last moment, the men of the Potemkin signal their comrades in the fleet to join them--and the Potemkin steams among the oncoming ships without a shot being fired at it.\n",
            "\n",
            "“The Battleship Potemkin” is conceived as class-conscious revolutionary propaganda, and Eisenstein deliberately avoids creating any three-dimensional individuals (even Vakulinchuk is seen largely as a symbol). Instead, masses of men move in unison, as in the many shots looking down at Potemkin's foredeck. The people of Odessa, too, are seen as a mass made up of many briefly glimpsed but starkly seen faces. The dialogue (in title cards) is limited mostly to outrage and exhortation. There is no personal drama to counterbalance the larger political drama.\n",
            "\n",
            "Eisenstein (1898-1948) was a student and advocate of Soviet theories of film montage, which argued that film has its greatest impact not by the smooth unrolling of images, but by their juxtaposition. Sometimes the cutting is dialectical: point, counterpoint, fusion. Cutting between the fearful faces of the unarmed citizens and the faceless troops in uniform, he created an argument for the people against the czarist state. Many other cuts are as abrupt: After Potemkin's captain threatens to hang mutineers from the yardarm, we see ghostly figures hanging there. As the people call out, “Down with the tyrants!” we see clenched fists. To emphasize that the shooting victims were powerless to flee, we see one revolutionary citizen without legs. As the troops march ahead, a military boot crushes a child's hand. In a famous set of shots, a citizen is seen with eyeglasses; when we cut back, one of the glasses has been pierced by a bullet.\n",
            "\n",
            "Eisenstein felt that montage should proceed from rhythm, not story. Shots should be cut to lead up to a point, and should not linger because of personal interest in individual characters. Most of the soundtracks I've heard with “Potemkin” do not follow this theory, and instead score the movie as a more conventional silent drama. Concrete, the Michigan band (Boyd Nutting, Jon Yazell, Andrew Lersten), underlined and reinforced Eisenstein's approach with an insistent, rhythmic, repetitive score, using keyboards, half-heard snatches of speech, cries and choral passages, percussion, martial airs and found sounds. It was an aggressive, insistent approach, played loud, by musicians who saw themselves as Eisenstein's collaborators, not his meek accompanists.\n",
            "\n",
            "It was the music, I think, along with the unusual setting, that was able to break through my long familiarity with “Battleship Potemkin” and make me understand, better than ever before, why this movie was long considered dangerous. (It was banned at various times in the United States and France, and for a longer time than any other film in British history; even Stalin banned it, at a time when mutiny was against the party line.)\n",
            "\n",
            "The fact is, “Potemkin” doesn't really stand alone, but depends for its power upon the social situation in which it is shown. In prosperous peacetime, it is a curiosity. If it had been shown in China at the time of Tiananmen Square, I imagine it would have been inflammatory. It was voted the greatest film of all time at the Brussels, Belgium, World's Fair in 1958 (ironically, the very year “Citizen Kane” had its great re-release and went to the top of the list for the next 40 years). The Cold War was at its height in 1958, and many European leftists still subscribed to the Marxist prescription for society; “Potemkin” for them had a power, too.\n",
            "\n",
            "But it suffers when it is seen apart from its context (just as “The Graduate,” by striking the perfect note for 1967, strikes a dated note now). It needs the right audience. In a sense, the band Concrete supplied a virtual audience; the loud, passionate, ominous music by the three young musicians worked as an impassioned audience response does, to carry and hurry the other watchers along. “Battleship Potemkin” is no longer considered the greatest film ever made, but it is obligatory for anyone interested in film history, and the other night in that small-town parking lot I got a sense, a stirring, of the buried power it still contains, awaiting a call.\n"
          ]
        }
      ]
    },
    {
      "cell_type": "code",
      "source": [
        "# with  open('/content/drive/MyDrive/STUTERN 1.3 ASSIGNMENT/INTERMEDIATE/Module_2/ebert_file.txt','r') as file:\n",
        "#     print(file.read())"
      ],
      "metadata": {
        "id": "CM2qwZ80aAGB"
      },
      "id": "CM2qwZ80aAGB",
      "execution_count": null,
      "outputs": []
    },
    {
      "cell_type": "code",
      "source": [
        "# with  open('/content/drive/MyDrive/STUTERN 1.3 ASSIGNMENT/INTERMEDIATE/Module_2/ebert_file.txt','r') as file:\n",
        "#   for line in file:\n",
        "#         print(line)"
      ],
      "metadata": {
        "id": "Z2QgPrwma5fh"
      },
      "id": "Z2QgPrwma5fh",
      "execution_count": null,
      "outputs": []
    },
    {
      "cell_type": "markdown",
      "id": "60298ed1",
      "metadata": {
        "id": "60298ed1"
      },
      "source": [
        "### Task \n",
        "* lets create a file that will store all the html contents for each link\n",
        "* create a folder that will store all the files created  using  python file manipulation syntax\n",
        "\n"
      ]
    },
    {
      "cell_type": "markdown",
      "id": "9ab1598b",
      "metadata": {
        "id": "9ab1598b"
      },
      "source": [
        "##### HINTS"
      ]
    },
    {
      "cell_type": "markdown",
      "id": "f2c232aa",
      "metadata": {
        "id": "f2c232aa"
      },
      "source": [
        "###### the html contents needs to be downloaded programmatically using requests method;\n",
        "######  for each content , create file by writting to each of these file in a folder\n",
        "\n",
        "## Goodluck with the task "
      ]
    },
    {
      "cell_type": "code",
      "execution_count": null,
      "id": "bcc0385e",
      "metadata": {
        "id": "bcc0385e"
      },
      "outputs": [],
      "source": [
        "# txt = ebert_review_urls[0]"
      ]
    }
  ],
  "metadata": {
    "kernelspec": {
      "display_name": "Python 3 (ipykernel)",
      "language": "python",
      "name": "python3"
    },
    "language_info": {
      "codemirror_mode": {
        "name": "ipython",
        "version": 3
      },
      "file_extension": ".py",
      "mimetype": "text/x-python",
      "name": "python",
      "nbconvert_exporter": "python",
      "pygments_lexer": "ipython3",
      "version": "3.9.12"
    },
    "colab": {
      "provenance": [],
      "include_colab_link": true
    }
  },
  "nbformat": 4,
  "nbformat_minor": 5
}