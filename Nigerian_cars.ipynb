{
  "nbformat": 4,
  "nbformat_minor": 0,
  "metadata": {
    "colab": {
      "provenance": [],
      "authorship_tag": "ABX9TyPKIk2GtF3WLga5do8KWDUl",
      "include_colab_link": true
    },
    "kernelspec": {
      "name": "python3",
      "display_name": "Python 3"
    },
    "language_info": {
      "name": "python"
    }
  },
  "cells": [
    {
      "cell_type": "markdown",
      "metadata": {
        "id": "view-in-github",
        "colab_type": "text"
      },
      "source": [
        "<a href=\"https://colab.research.google.com/github/Teriekarie/SGA_DSCI_2/blob/main/Nigerian_cars.ipynb\" target=\"_parent\"><img src=\"https://colab.research.google.com/assets/colab-badge.svg\" alt=\"Open In Colab\"/></a>"
      ]
    },
    {
      "cell_type": "code",
      "execution_count": null,
      "metadata": {
        "id": "B_fUdIXEd6pP"
      },
      "outputs": [],
      "source": [
        "from google.colab import drive\n",
        "drive.mount('/content/drive')"
      ]
    },
    {
      "cell_type": "code",
      "source": [
        "import pandas as pd\n",
        "import numpy as np"
      ],
      "metadata": {
        "id": "p3EdrBeXfHkD"
      },
      "execution_count": null,
      "outputs": []
    },
    {
      "cell_type": "code",
      "source": [
        "df = pd.read_csv('/content/drive/MyDrive/STUTERN 1.3 ASSIGNMENT/INTERMEDIATE/Module_6/Nigerian_Car_Prices.csv')\n",
        "df.head()"
      ],
      "metadata": {
        "colab": {
          "base_uri": "https://localhost:8080/",
          "height": 340
        },
        "id": "TGGzCD5EfXJp",
        "outputId": "aa582b06-b866-4a7f-81d9-1d57323fc9e4"
      },
      "execution_count": null,
      "outputs": [
        {
          "output_type": "execute_result",
          "data": {
            "text/plain": [
              "   Unnamed: 0           Make  Year of manufacture      Condition   Mileage  \\\n",
              "0           0         Toyota               2007.0  Nigerian Used  166418.0   \n",
              "1           1          Lexus                  NaN            NaN  138024.0   \n",
              "2           2  Mercedes-Benz               2008.0  Nigerian Used  376807.0   \n",
              "3           3          Lexus                  NaN            NaN  213362.0   \n",
              "4           4  Mercedes-Benz                  NaN            NaN  106199.0   \n",
              "\n",
              "   Engine Size    Fuel Transmission      Price Build  \n",
              "0       2400.0  Petrol    Automatic  3,120,000   NaN  \n",
              "1          NaN     NaN    Automatic  5,834,000   NaN  \n",
              "2       3000.0  Petrol    Automatic  3,640,000   NaN  \n",
              "3          NaN     NaN    Automatic  3,594,000   NaN  \n",
              "4          NaN     NaN    Automatic  8,410,000   NaN  "
            ],
            "text/html": [
              "\n",
              "  <div id=\"df-b5a531e5-b6d3-4a90-bfdb-24d3ebd5b44e\">\n",
              "    <div class=\"colab-df-container\">\n",
              "      <div>\n",
              "<style scoped>\n",
              "    .dataframe tbody tr th:only-of-type {\n",
              "        vertical-align: middle;\n",
              "    }\n",
              "\n",
              "    .dataframe tbody tr th {\n",
              "        vertical-align: top;\n",
              "    }\n",
              "\n",
              "    .dataframe thead th {\n",
              "        text-align: right;\n",
              "    }\n",
              "</style>\n",
              "<table border=\"1\" class=\"dataframe\">\n",
              "  <thead>\n",
              "    <tr style=\"text-align: right;\">\n",
              "      <th></th>\n",
              "      <th>Unnamed: 0</th>\n",
              "      <th>Make</th>\n",
              "      <th>Year of manufacture</th>\n",
              "      <th>Condition</th>\n",
              "      <th>Mileage</th>\n",
              "      <th>Engine Size</th>\n",
              "      <th>Fuel</th>\n",
              "      <th>Transmission</th>\n",
              "      <th>Price</th>\n",
              "      <th>Build</th>\n",
              "    </tr>\n",
              "  </thead>\n",
              "  <tbody>\n",
              "    <tr>\n",
              "      <th>0</th>\n",
              "      <td>0</td>\n",
              "      <td>Toyota</td>\n",
              "      <td>2007.0</td>\n",
              "      <td>Nigerian Used</td>\n",
              "      <td>166418.0</td>\n",
              "      <td>2400.0</td>\n",
              "      <td>Petrol</td>\n",
              "      <td>Automatic</td>\n",
              "      <td>3,120,000</td>\n",
              "      <td>NaN</td>\n",
              "    </tr>\n",
              "    <tr>\n",
              "      <th>1</th>\n",
              "      <td>1</td>\n",
              "      <td>Lexus</td>\n",
              "      <td>NaN</td>\n",
              "      <td>NaN</td>\n",
              "      <td>138024.0</td>\n",
              "      <td>NaN</td>\n",
              "      <td>NaN</td>\n",
              "      <td>Automatic</td>\n",
              "      <td>5,834,000</td>\n",
              "      <td>NaN</td>\n",
              "    </tr>\n",
              "    <tr>\n",
              "      <th>2</th>\n",
              "      <td>2</td>\n",
              "      <td>Mercedes-Benz</td>\n",
              "      <td>2008.0</td>\n",
              "      <td>Nigerian Used</td>\n",
              "      <td>376807.0</td>\n",
              "      <td>3000.0</td>\n",
              "      <td>Petrol</td>\n",
              "      <td>Automatic</td>\n",
              "      <td>3,640,000</td>\n",
              "      <td>NaN</td>\n",
              "    </tr>\n",
              "    <tr>\n",
              "      <th>3</th>\n",
              "      <td>3</td>\n",
              "      <td>Lexus</td>\n",
              "      <td>NaN</td>\n",
              "      <td>NaN</td>\n",
              "      <td>213362.0</td>\n",
              "      <td>NaN</td>\n",
              "      <td>NaN</td>\n",
              "      <td>Automatic</td>\n",
              "      <td>3,594,000</td>\n",
              "      <td>NaN</td>\n",
              "    </tr>\n",
              "    <tr>\n",
              "      <th>4</th>\n",
              "      <td>4</td>\n",
              "      <td>Mercedes-Benz</td>\n",
              "      <td>NaN</td>\n",
              "      <td>NaN</td>\n",
              "      <td>106199.0</td>\n",
              "      <td>NaN</td>\n",
              "      <td>NaN</td>\n",
              "      <td>Automatic</td>\n",
              "      <td>8,410,000</td>\n",
              "      <td>NaN</td>\n",
              "    </tr>\n",
              "  </tbody>\n",
              "</table>\n",
              "</div>\n",
              "      <button class=\"colab-df-convert\" onclick=\"convertToInteractive('df-b5a531e5-b6d3-4a90-bfdb-24d3ebd5b44e')\"\n",
              "              title=\"Convert this dataframe to an interactive table.\"\n",
              "              style=\"display:none;\">\n",
              "        \n",
              "  <svg xmlns=\"http://www.w3.org/2000/svg\" height=\"24px\"viewBox=\"0 0 24 24\"\n",
              "       width=\"24px\">\n",
              "    <path d=\"M0 0h24v24H0V0z\" fill=\"none\"/>\n",
              "    <path d=\"M18.56 5.44l.94 2.06.94-2.06 2.06-.94-2.06-.94-.94-2.06-.94 2.06-2.06.94zm-11 1L8.5 8.5l.94-2.06 2.06-.94-2.06-.94L8.5 2.5l-.94 2.06-2.06.94zm10 10l.94 2.06.94-2.06 2.06-.94-2.06-.94-.94-2.06-.94 2.06-2.06.94z\"/><path d=\"M17.41 7.96l-1.37-1.37c-.4-.4-.92-.59-1.43-.59-.52 0-1.04.2-1.43.59L10.3 9.45l-7.72 7.72c-.78.78-.78 2.05 0 2.83L4 21.41c.39.39.9.59 1.41.59.51 0 1.02-.2 1.41-.59l7.78-7.78 2.81-2.81c.8-.78.8-2.07 0-2.86zM5.41 20L4 18.59l7.72-7.72 1.47 1.35L5.41 20z\"/>\n",
              "  </svg>\n",
              "      </button>\n",
              "      \n",
              "  <style>\n",
              "    .colab-df-container {\n",
              "      display:flex;\n",
              "      flex-wrap:wrap;\n",
              "      gap: 12px;\n",
              "    }\n",
              "\n",
              "    .colab-df-convert {\n",
              "      background-color: #E8F0FE;\n",
              "      border: none;\n",
              "      border-radius: 50%;\n",
              "      cursor: pointer;\n",
              "      display: none;\n",
              "      fill: #1967D2;\n",
              "      height: 32px;\n",
              "      padding: 0 0 0 0;\n",
              "      width: 32px;\n",
              "    }\n",
              "\n",
              "    .colab-df-convert:hover {\n",
              "      background-color: #E2EBFA;\n",
              "      box-shadow: 0px 1px 2px rgba(60, 64, 67, 0.3), 0px 1px 3px 1px rgba(60, 64, 67, 0.15);\n",
              "      fill: #174EA6;\n",
              "    }\n",
              "\n",
              "    [theme=dark] .colab-df-convert {\n",
              "      background-color: #3B4455;\n",
              "      fill: #D2E3FC;\n",
              "    }\n",
              "\n",
              "    [theme=dark] .colab-df-convert:hover {\n",
              "      background-color: #434B5C;\n",
              "      box-shadow: 0px 1px 3px 1px rgba(0, 0, 0, 0.15);\n",
              "      filter: drop-shadow(0px 1px 2px rgba(0, 0, 0, 0.3));\n",
              "      fill: #FFFFFF;\n",
              "    }\n",
              "  </style>\n",
              "\n",
              "      <script>\n",
              "        const buttonEl =\n",
              "          document.querySelector('#df-b5a531e5-b6d3-4a90-bfdb-24d3ebd5b44e button.colab-df-convert');\n",
              "        buttonEl.style.display =\n",
              "          google.colab.kernel.accessAllowed ? 'block' : 'none';\n",
              "\n",
              "        async function convertToInteractive(key) {\n",
              "          const element = document.querySelector('#df-b5a531e5-b6d3-4a90-bfdb-24d3ebd5b44e');\n",
              "          const dataTable =\n",
              "            await google.colab.kernel.invokeFunction('convertToInteractive',\n",
              "                                                     [key], {});\n",
              "          if (!dataTable) return;\n",
              "\n",
              "          const docLinkHtml = 'Like what you see? Visit the ' +\n",
              "            '<a target=\"_blank\" href=https://colab.research.google.com/notebooks/data_table.ipynb>data table notebook</a>'\n",
              "            + ' to learn more about interactive tables.';\n",
              "          element.innerHTML = '';\n",
              "          dataTable['output_type'] = 'display_data';\n",
              "          await google.colab.output.renderOutput(dataTable, element);\n",
              "          const docLink = document.createElement('div');\n",
              "          docLink.innerHTML = docLinkHtml;\n",
              "          element.appendChild(docLink);\n",
              "        }\n",
              "      </script>\n",
              "    </div>\n",
              "  </div>\n",
              "  "
            ]
          },
          "metadata": {},
          "execution_count": 27
        }
      ]
    },
    {
      "cell_type": "markdown",
      "source": [
        "This shows that there are some categorical variables and some numeric variables, we can also see that we have this column Unnamed: 0 that will probably not be used, as well as some null values"
      ],
      "metadata": {
        "id": "aVVz_QNln6Aa"
      }
    },
    {
      "cell_type": "markdown",
      "source": [
        "#Cleaning the dataset\n"
      ],
      "metadata": {
        "id": "Tiyrewa1ivTD"
      }
    },
    {
      "cell_type": "code",
      "source": [
        "df.info()"
      ],
      "metadata": {
        "colab": {
          "base_uri": "https://localhost:8080/"
        },
        "id": "0PSlXsRNoVDY",
        "outputId": "f80565a6-0f9d-482a-bac7-ea6845ffb7da"
      },
      "execution_count": null,
      "outputs": [
        {
          "output_type": "stream",
          "name": "stdout",
          "text": [
            "<class 'pandas.core.frame.DataFrame'>\n",
            "RangeIndex: 4095 entries, 0 to 4094\n",
            "Data columns (total 10 columns):\n",
            " #   Column               Non-Null Count  Dtype  \n",
            "---  ------               --------------  -----  \n",
            " 0   Unnamed: 0           4095 non-null   int64  \n",
            " 1   Make                 4095 non-null   object \n",
            " 2   Year of manufacture  3617 non-null   float64\n",
            " 3   Condition            3616 non-null   object \n",
            " 4   Mileage              4024 non-null   float64\n",
            " 5   Engine Size          3584 non-null   float64\n",
            " 6   Fuel                 3607 non-null   object \n",
            " 7   Transmission         4075 non-null   object \n",
            " 8   Price                4095 non-null   object \n",
            " 9   Build                1127 non-null   object \n",
            "dtypes: float64(3), int64(1), object(6)\n",
            "memory usage: 320.0+ KB\n"
          ]
        }
      ]
    },
    {
      "cell_type": "code",
      "source": [
        "df.describe()"
      ],
      "metadata": {
        "colab": {
          "base_uri": "https://localhost:8080/",
          "height": 300
        },
        "id": "5cpuKraaokRS",
        "outputId": "d78b11b2-daba-4b83-f52b-d918f5b9acd2"
      },
      "execution_count": null,
      "outputs": [
        {
          "output_type": "execute_result",
          "data": {
            "text/plain": [
              "        Unnamed: 0  Year of manufacture       Mileage    Engine Size\n",
              "count  4095.000000          3617.000000  4.024000e+03    3584.000000\n",
              "mean   2047.000000          2007.898535  1.825337e+05    3274.976562\n",
              "std    1182.269005             4.300126  2.109233e+05    7693.489588\n",
              "min       0.000000          1992.000000  1.000000e+00       3.000000\n",
              "25%    1023.500000          2005.000000  1.020640e+05    2000.000000\n",
              "50%    2047.000000          2008.000000  1.613525e+05    2500.000000\n",
              "75%    3070.500000          2011.000000  2.319522e+05    3500.000000\n",
              "max    4094.000000          2021.000000  9.976050e+06  371000.000000"
            ],
            "text/html": [
              "\n",
              "  <div id=\"df-cbd77564-b478-43a8-91ad-2154ea7a99a7\">\n",
              "    <div class=\"colab-df-container\">\n",
              "      <div>\n",
              "<style scoped>\n",
              "    .dataframe tbody tr th:only-of-type {\n",
              "        vertical-align: middle;\n",
              "    }\n",
              "\n",
              "    .dataframe tbody tr th {\n",
              "        vertical-align: top;\n",
              "    }\n",
              "\n",
              "    .dataframe thead th {\n",
              "        text-align: right;\n",
              "    }\n",
              "</style>\n",
              "<table border=\"1\" class=\"dataframe\">\n",
              "  <thead>\n",
              "    <tr style=\"text-align: right;\">\n",
              "      <th></th>\n",
              "      <th>Unnamed: 0</th>\n",
              "      <th>Year of manufacture</th>\n",
              "      <th>Mileage</th>\n",
              "      <th>Engine Size</th>\n",
              "    </tr>\n",
              "  </thead>\n",
              "  <tbody>\n",
              "    <tr>\n",
              "      <th>count</th>\n",
              "      <td>4095.000000</td>\n",
              "      <td>3617.000000</td>\n",
              "      <td>4.024000e+03</td>\n",
              "      <td>3584.000000</td>\n",
              "    </tr>\n",
              "    <tr>\n",
              "      <th>mean</th>\n",
              "      <td>2047.000000</td>\n",
              "      <td>2007.898535</td>\n",
              "      <td>1.825337e+05</td>\n",
              "      <td>3274.976562</td>\n",
              "    </tr>\n",
              "    <tr>\n",
              "      <th>std</th>\n",
              "      <td>1182.269005</td>\n",
              "      <td>4.300126</td>\n",
              "      <td>2.109233e+05</td>\n",
              "      <td>7693.489588</td>\n",
              "    </tr>\n",
              "    <tr>\n",
              "      <th>min</th>\n",
              "      <td>0.000000</td>\n",
              "      <td>1992.000000</td>\n",
              "      <td>1.000000e+00</td>\n",
              "      <td>3.000000</td>\n",
              "    </tr>\n",
              "    <tr>\n",
              "      <th>25%</th>\n",
              "      <td>1023.500000</td>\n",
              "      <td>2005.000000</td>\n",
              "      <td>1.020640e+05</td>\n",
              "      <td>2000.000000</td>\n",
              "    </tr>\n",
              "    <tr>\n",
              "      <th>50%</th>\n",
              "      <td>2047.000000</td>\n",
              "      <td>2008.000000</td>\n",
              "      <td>1.613525e+05</td>\n",
              "      <td>2500.000000</td>\n",
              "    </tr>\n",
              "    <tr>\n",
              "      <th>75%</th>\n",
              "      <td>3070.500000</td>\n",
              "      <td>2011.000000</td>\n",
              "      <td>2.319522e+05</td>\n",
              "      <td>3500.000000</td>\n",
              "    </tr>\n",
              "    <tr>\n",
              "      <th>max</th>\n",
              "      <td>4094.000000</td>\n",
              "      <td>2021.000000</td>\n",
              "      <td>9.976050e+06</td>\n",
              "      <td>371000.000000</td>\n",
              "    </tr>\n",
              "  </tbody>\n",
              "</table>\n",
              "</div>\n",
              "      <button class=\"colab-df-convert\" onclick=\"convertToInteractive('df-cbd77564-b478-43a8-91ad-2154ea7a99a7')\"\n",
              "              title=\"Convert this dataframe to an interactive table.\"\n",
              "              style=\"display:none;\">\n",
              "        \n",
              "  <svg xmlns=\"http://www.w3.org/2000/svg\" height=\"24px\"viewBox=\"0 0 24 24\"\n",
              "       width=\"24px\">\n",
              "    <path d=\"M0 0h24v24H0V0z\" fill=\"none\"/>\n",
              "    <path d=\"M18.56 5.44l.94 2.06.94-2.06 2.06-.94-2.06-.94-.94-2.06-.94 2.06-2.06.94zm-11 1L8.5 8.5l.94-2.06 2.06-.94-2.06-.94L8.5 2.5l-.94 2.06-2.06.94zm10 10l.94 2.06.94-2.06 2.06-.94-2.06-.94-.94-2.06-.94 2.06-2.06.94z\"/><path d=\"M17.41 7.96l-1.37-1.37c-.4-.4-.92-.59-1.43-.59-.52 0-1.04.2-1.43.59L10.3 9.45l-7.72 7.72c-.78.78-.78 2.05 0 2.83L4 21.41c.39.39.9.59 1.41.59.51 0 1.02-.2 1.41-.59l7.78-7.78 2.81-2.81c.8-.78.8-2.07 0-2.86zM5.41 20L4 18.59l7.72-7.72 1.47 1.35L5.41 20z\"/>\n",
              "  </svg>\n",
              "      </button>\n",
              "      \n",
              "  <style>\n",
              "    .colab-df-container {\n",
              "      display:flex;\n",
              "      flex-wrap:wrap;\n",
              "      gap: 12px;\n",
              "    }\n",
              "\n",
              "    .colab-df-convert {\n",
              "      background-color: #E8F0FE;\n",
              "      border: none;\n",
              "      border-radius: 50%;\n",
              "      cursor: pointer;\n",
              "      display: none;\n",
              "      fill: #1967D2;\n",
              "      height: 32px;\n",
              "      padding: 0 0 0 0;\n",
              "      width: 32px;\n",
              "    }\n",
              "\n",
              "    .colab-df-convert:hover {\n",
              "      background-color: #E2EBFA;\n",
              "      box-shadow: 0px 1px 2px rgba(60, 64, 67, 0.3), 0px 1px 3px 1px rgba(60, 64, 67, 0.15);\n",
              "      fill: #174EA6;\n",
              "    }\n",
              "\n",
              "    [theme=dark] .colab-df-convert {\n",
              "      background-color: #3B4455;\n",
              "      fill: #D2E3FC;\n",
              "    }\n",
              "\n",
              "    [theme=dark] .colab-df-convert:hover {\n",
              "      background-color: #434B5C;\n",
              "      box-shadow: 0px 1px 3px 1px rgba(0, 0, 0, 0.15);\n",
              "      filter: drop-shadow(0px 1px 2px rgba(0, 0, 0, 0.3));\n",
              "      fill: #FFFFFF;\n",
              "    }\n",
              "  </style>\n",
              "\n",
              "      <script>\n",
              "        const buttonEl =\n",
              "          document.querySelector('#df-cbd77564-b478-43a8-91ad-2154ea7a99a7 button.colab-df-convert');\n",
              "        buttonEl.style.display =\n",
              "          google.colab.kernel.accessAllowed ? 'block' : 'none';\n",
              "\n",
              "        async function convertToInteractive(key) {\n",
              "          const element = document.querySelector('#df-cbd77564-b478-43a8-91ad-2154ea7a99a7');\n",
              "          const dataTable =\n",
              "            await google.colab.kernel.invokeFunction('convertToInteractive',\n",
              "                                                     [key], {});\n",
              "          if (!dataTable) return;\n",
              "\n",
              "          const docLinkHtml = 'Like what you see? Visit the ' +\n",
              "            '<a target=\"_blank\" href=https://colab.research.google.com/notebooks/data_table.ipynb>data table notebook</a>'\n",
              "            + ' to learn more about interactive tables.';\n",
              "          element.innerHTML = '';\n",
              "          dataTable['output_type'] = 'display_data';\n",
              "          await google.colab.output.renderOutput(dataTable, element);\n",
              "          const docLink = document.createElement('div');\n",
              "          docLink.innerHTML = docLinkHtml;\n",
              "          element.appendChild(docLink);\n",
              "        }\n",
              "      </script>\n",
              "    </div>\n",
              "  </div>\n",
              "  "
            ]
          },
          "metadata": {},
          "execution_count": 29
        }
      ]
    },
    {
      "cell_type": "code",
      "source": [
        "df.dtypes"
      ],
      "metadata": {
        "colab": {
          "base_uri": "https://localhost:8080/"
        },
        "id": "yUs7TF9LouSJ",
        "outputId": "6b0905a2-4365-48a3-acbd-d62fa23d6f52"
      },
      "execution_count": null,
      "outputs": [
        {
          "output_type": "execute_result",
          "data": {
            "text/plain": [
              "Unnamed: 0               int64\n",
              "Make                    object\n",
              "Year of manufacture    float64\n",
              "Condition               object\n",
              "Mileage                float64\n",
              "Engine Size            float64\n",
              "Fuel                    object\n",
              "Transmission            object\n",
              "Price                   object\n",
              "Build                   object\n",
              "dtype: object"
            ]
          },
          "metadata": {},
          "execution_count": 30
        }
      ]
    },
    {
      "cell_type": "code",
      "source": [
        "#checking for null values\n",
        "\n",
        "df.isnull().sum()"
      ],
      "metadata": {
        "colab": {
          "base_uri": "https://localhost:8080/"
        },
        "id": "kLT2aaQ3pUKH",
        "outputId": "239d9873-9a18-4faa-9247-2df929a3828f"
      },
      "execution_count": null,
      "outputs": [
        {
          "output_type": "execute_result",
          "data": {
            "text/plain": [
              "Unnamed: 0                0\n",
              "Make                      0\n",
              "Year of manufacture     478\n",
              "Condition               479\n",
              "Mileage                  71\n",
              "Engine Size             511\n",
              "Fuel                    488\n",
              "Transmission             20\n",
              "Price                     0\n",
              "Build                  2968\n",
              "dtype: int64"
            ]
          },
          "metadata": {},
          "execution_count": 31
        }
      ]
    },
    {
      "cell_type": "markdown",
      "source": [
        "We can see that Build vaariabke has the most missing values and since it is not so essential in this project, it will be dropped"
      ],
      "metadata": {
        "id": "o7BkwaQIpjDw"
      }
    },
    {
      "cell_type": "code",
      "source": [
        "df = df.drop('Build', 1)"
      ],
      "metadata": {
        "colab": {
          "base_uri": "https://localhost:8080/"
        },
        "id": "ywU_8sipp1Nd",
        "outputId": "e5d65428-b5b3-4bcd-cf96-bfa7ca3f4c60"
      },
      "execution_count": null,
      "outputs": [
        {
          "output_type": "stream",
          "name": "stderr",
          "text": [
            "/usr/local/lib/python3.7/dist-packages/ipykernel_launcher.py:1: FutureWarning: In a future version of pandas all arguments of DataFrame.drop except for the argument 'labels' will be keyword-only\n",
            "  \"\"\"Entry point for launching an IPython kernel.\n"
          ]
        }
      ]
    },
    {
      "cell_type": "code",
      "source": [
        "#changing the format of the price to float for easy use\n",
        "df['Price'].replace(to_replace=',', value='', regex=True, inplace=True)\n",
        "df[\"Price\"] = df[\"Price\"].astype(\"float64\")\n",
        "\n",
        "df['Year of manufacture'] = df['Year of manufacture'].astype('int64')"
      ],
      "metadata": {
        "id": "s6AKMJOpqIcS"
      },
      "execution_count": null,
      "outputs": []
    },
    {
      "cell_type": "markdown",
      "source": [
        "cleaning the null values and filling them with their mean, mode and median respectively"
      ],
      "metadata": {
        "id": "wDNqaxODqmu9"
      }
    },
    {
      "cell_type": "code",
      "source": [
        "df['Mileage']=df['Mileage'].fillna(df['Mileage'].mean())\n",
        "\n",
        "df = df[df['Year of manufacture'].notnull()]\n",
        "\n",
        "df['Condition']=df['Condition'].fillna(df['Condition'].mode()[0])\n",
        "\n",
        "df['Engine Size']=df['Engine Size'].fillna(df['Engine Size'].median())\n",
        "\n",
        "df['Fuel']=df['Fuel'].fillna(df['Fuel'].mode()[0])\n",
        "\n",
        "df['Transmission']=df['Transmission'].fillna(df['Transmission'].mode()[0])"
      ],
      "metadata": {
        "id": "HX7isyPsqwGi"
      },
      "execution_count": null,
      "outputs": []
    },
    {
      "cell_type": "code",
      "source": [
        "df.isnull().sum()"
      ],
      "metadata": {
        "colab": {
          "base_uri": "https://localhost:8080/"
        },
        "id": "E73KBkiXq_gS",
        "outputId": "9f43f61a-aa06-4648-ab79-e2acd7204eed"
      },
      "execution_count": null,
      "outputs": [
        {
          "output_type": "execute_result",
          "data": {
            "text/plain": [
              "Unnamed: 0             0\n",
              "Make                   0\n",
              "Year of manufacture    0\n",
              "Condition              0\n",
              "Mileage                0\n",
              "Engine Size            0\n",
              "Fuel                   0\n",
              "Transmission           0\n",
              "Price                  0\n",
              "dtype: int64"
            ]
          },
          "metadata": {},
          "execution_count": 38
        }
      ]
    },
    {
      "cell_type": "code",
      "source": [
        "df = df.drop('Unnamed: 0', 1)"
      ],
      "metadata": {
        "colab": {
          "base_uri": "https://localhost:8080/"
        },
        "id": "rSN9fFVlwYAp",
        "outputId": "7d133308-e8b4-47eb-c0c7-48897276d830"
      },
      "execution_count": null,
      "outputs": [
        {
          "output_type": "stream",
          "name": "stderr",
          "text": [
            "/usr/local/lib/python3.7/dist-packages/ipykernel_launcher.py:1: FutureWarning: In a future version of pandas all arguments of DataFrame.drop except for the argument 'labels' will be keyword-only\n",
            "  \"\"\"Entry point for launching an IPython kernel.\n"
          ]
        }
      ]
    },
    {
      "cell_type": "code",
      "source": [
        "df.dtypes"
      ],
      "metadata": {
        "id": "-Mu-m3vf3var",
        "outputId": "0305bf57-08ba-4a88-dde9-0e31633aa246",
        "colab": {
          "base_uri": "https://localhost:8080/"
        }
      },
      "execution_count": null,
      "outputs": [
        {
          "output_type": "execute_result",
          "data": {
            "text/plain": [
              "Make                    object\n",
              "Year of manufacture      int64\n",
              "Condition               object\n",
              "Mileage                float64\n",
              "Engine Size            float64\n",
              "Fuel                    object\n",
              "Transmission            object\n",
              "Price                  float64\n",
              "dtype: object"
            ]
          },
          "metadata": {},
          "execution_count": 40
        }
      ]
    },
    {
      "cell_type": "code",
      "source": [
        "df.head()"
      ],
      "metadata": {
        "colab": {
          "base_uri": "https://localhost:8080/",
          "height": 374
        },
        "id": "nAGilvEQpBjs",
        "outputId": "3d02616e-3c40-4304-e457-c58d683c0f30"
      },
      "execution_count": null,
      "outputs": [
        {
          "output_type": "execute_result",
          "data": {
            "text/plain": [
              "             Make  Year of manufacture      Condition   Mileage  Engine Size  \\\n",
              "0          Toyota                 2007  Nigerian Used  166418.0       2400.0   \n",
              "2   Mercedes-Benz                 2008  Nigerian Used  376807.0       3000.0   \n",
              "30          Lexus                 2008   Foreign Used  301265.0       3500.0   \n",
              "32          Lexus                 2011  Nigerian Used  105546.0       4600.0   \n",
              "43          Lexus                 2011   Foreign Used  211917.0       3500.0   \n",
              "\n",
              "      Fuel Transmission       Price  \n",
              "0   Petrol    Automatic   3120000.0  \n",
              "2   Petrol    Automatic   3640000.0  \n",
              "30  Petrol    Automatic   4680000.0  \n",
              "32  Petrol    Automatic  14040000.0  \n",
              "43  Petrol    Automatic   6968000.0  "
            ],
            "text/html": [
              "\n",
              "  <div id=\"df-97e52bfc-0e39-4d2d-886a-2537c76ebdd8\">\n",
              "    <div class=\"colab-df-container\">\n",
              "      <div>\n",
              "<style scoped>\n",
              "    .dataframe tbody tr th:only-of-type {\n",
              "        vertical-align: middle;\n",
              "    }\n",
              "\n",
              "    .dataframe tbody tr th {\n",
              "        vertical-align: top;\n",
              "    }\n",
              "\n",
              "    .dataframe thead th {\n",
              "        text-align: right;\n",
              "    }\n",
              "</style>\n",
              "<table border=\"1\" class=\"dataframe\">\n",
              "  <thead>\n",
              "    <tr style=\"text-align: right;\">\n",
              "      <th></th>\n",
              "      <th>Make</th>\n",
              "      <th>Year of manufacture</th>\n",
              "      <th>Condition</th>\n",
              "      <th>Mileage</th>\n",
              "      <th>Engine Size</th>\n",
              "      <th>Fuel</th>\n",
              "      <th>Transmission</th>\n",
              "      <th>Price</th>\n",
              "    </tr>\n",
              "  </thead>\n",
              "  <tbody>\n",
              "    <tr>\n",
              "      <th>0</th>\n",
              "      <td>Toyota</td>\n",
              "      <td>2007</td>\n",
              "      <td>Nigerian Used</td>\n",
              "      <td>166418.0</td>\n",
              "      <td>2400.0</td>\n",
              "      <td>Petrol</td>\n",
              "      <td>Automatic</td>\n",
              "      <td>3120000.0</td>\n",
              "    </tr>\n",
              "    <tr>\n",
              "      <th>2</th>\n",
              "      <td>Mercedes-Benz</td>\n",
              "      <td>2008</td>\n",
              "      <td>Nigerian Used</td>\n",
              "      <td>376807.0</td>\n",
              "      <td>3000.0</td>\n",
              "      <td>Petrol</td>\n",
              "      <td>Automatic</td>\n",
              "      <td>3640000.0</td>\n",
              "    </tr>\n",
              "    <tr>\n",
              "      <th>30</th>\n",
              "      <td>Lexus</td>\n",
              "      <td>2008</td>\n",
              "      <td>Foreign Used</td>\n",
              "      <td>301265.0</td>\n",
              "      <td>3500.0</td>\n",
              "      <td>Petrol</td>\n",
              "      <td>Automatic</td>\n",
              "      <td>4680000.0</td>\n",
              "    </tr>\n",
              "    <tr>\n",
              "      <th>32</th>\n",
              "      <td>Lexus</td>\n",
              "      <td>2011</td>\n",
              "      <td>Nigerian Used</td>\n",
              "      <td>105546.0</td>\n",
              "      <td>4600.0</td>\n",
              "      <td>Petrol</td>\n",
              "      <td>Automatic</td>\n",
              "      <td>14040000.0</td>\n",
              "    </tr>\n",
              "    <tr>\n",
              "      <th>43</th>\n",
              "      <td>Lexus</td>\n",
              "      <td>2011</td>\n",
              "      <td>Foreign Used</td>\n",
              "      <td>211917.0</td>\n",
              "      <td>3500.0</td>\n",
              "      <td>Petrol</td>\n",
              "      <td>Automatic</td>\n",
              "      <td>6968000.0</td>\n",
              "    </tr>\n",
              "  </tbody>\n",
              "</table>\n",
              "</div>\n",
              "      <button class=\"colab-df-convert\" onclick=\"convertToInteractive('df-97e52bfc-0e39-4d2d-886a-2537c76ebdd8')\"\n",
              "              title=\"Convert this dataframe to an interactive table.\"\n",
              "              style=\"display:none;\">\n",
              "        \n",
              "  <svg xmlns=\"http://www.w3.org/2000/svg\" height=\"24px\"viewBox=\"0 0 24 24\"\n",
              "       width=\"24px\">\n",
              "    <path d=\"M0 0h24v24H0V0z\" fill=\"none\"/>\n",
              "    <path d=\"M18.56 5.44l.94 2.06.94-2.06 2.06-.94-2.06-.94-.94-2.06-.94 2.06-2.06.94zm-11 1L8.5 8.5l.94-2.06 2.06-.94-2.06-.94L8.5 2.5l-.94 2.06-2.06.94zm10 10l.94 2.06.94-2.06 2.06-.94-2.06-.94-.94-2.06-.94 2.06-2.06.94z\"/><path d=\"M17.41 7.96l-1.37-1.37c-.4-.4-.92-.59-1.43-.59-.52 0-1.04.2-1.43.59L10.3 9.45l-7.72 7.72c-.78.78-.78 2.05 0 2.83L4 21.41c.39.39.9.59 1.41.59.51 0 1.02-.2 1.41-.59l7.78-7.78 2.81-2.81c.8-.78.8-2.07 0-2.86zM5.41 20L4 18.59l7.72-7.72 1.47 1.35L5.41 20z\"/>\n",
              "  </svg>\n",
              "      </button>\n",
              "      \n",
              "  <style>\n",
              "    .colab-df-container {\n",
              "      display:flex;\n",
              "      flex-wrap:wrap;\n",
              "      gap: 12px;\n",
              "    }\n",
              "\n",
              "    .colab-df-convert {\n",
              "      background-color: #E8F0FE;\n",
              "      border: none;\n",
              "      border-radius: 50%;\n",
              "      cursor: pointer;\n",
              "      display: none;\n",
              "      fill: #1967D2;\n",
              "      height: 32px;\n",
              "      padding: 0 0 0 0;\n",
              "      width: 32px;\n",
              "    }\n",
              "\n",
              "    .colab-df-convert:hover {\n",
              "      background-color: #E2EBFA;\n",
              "      box-shadow: 0px 1px 2px rgba(60, 64, 67, 0.3), 0px 1px 3px 1px rgba(60, 64, 67, 0.15);\n",
              "      fill: #174EA6;\n",
              "    }\n",
              "\n",
              "    [theme=dark] .colab-df-convert {\n",
              "      background-color: #3B4455;\n",
              "      fill: #D2E3FC;\n",
              "    }\n",
              "\n",
              "    [theme=dark] .colab-df-convert:hover {\n",
              "      background-color: #434B5C;\n",
              "      box-shadow: 0px 1px 3px 1px rgba(0, 0, 0, 0.15);\n",
              "      filter: drop-shadow(0px 1px 2px rgba(0, 0, 0, 0.3));\n",
              "      fill: #FFFFFF;\n",
              "    }\n",
              "  </style>\n",
              "\n",
              "      <script>\n",
              "        const buttonEl =\n",
              "          document.querySelector('#df-97e52bfc-0e39-4d2d-886a-2537c76ebdd8 button.colab-df-convert');\n",
              "        buttonEl.style.display =\n",
              "          google.colab.kernel.accessAllowed ? 'block' : 'none';\n",
              "\n",
              "        async function convertToInteractive(key) {\n",
              "          const element = document.querySelector('#df-97e52bfc-0e39-4d2d-886a-2537c76ebdd8');\n",
              "          const dataTable =\n",
              "            await google.colab.kernel.invokeFunction('convertToInteractive',\n",
              "                                                     [key], {});\n",
              "          if (!dataTable) return;\n",
              "\n",
              "          const docLinkHtml = 'Like what you see? Visit the ' +\n",
              "            '<a target=\"_blank\" href=https://colab.research.google.com/notebooks/data_table.ipynb>data table notebook</a>'\n",
              "            + ' to learn more about interactive tables.';\n",
              "          element.innerHTML = '';\n",
              "          dataTable['output_type'] = 'display_data';\n",
              "          await google.colab.output.renderOutput(dataTable, element);\n",
              "          const docLink = document.createElement('div');\n",
              "          docLink.innerHTML = docLinkHtml;\n",
              "          element.appendChild(docLink);\n",
              "        }\n",
              "      </script>\n",
              "    </div>\n",
              "  </div>\n",
              "  "
            ]
          },
          "metadata": {},
          "execution_count": 41
        }
      ]
    },
    {
      "cell_type": "markdown",
      "source": [
        "What is the most expensive Automatic car (show car name and model make) with a mileage of less than 50000"
      ],
      "metadata": {
        "id": "6bd058JJgjqr"
      }
    },
    {
      "cell_type": "code",
      "source": [
        "# max Price for each car showing the model\n",
        "df.groupby(['Make', 'Year of manufacture', 'Mileage'])['Price', 'Transmission'].max()"
      ],
      "metadata": {
        "id": "ayLINHA0muqn",
        "colab": {
          "base_uri": "https://localhost:8080/",
          "height": 510
        },
        "outputId": "5ac3af63-35f8-412c-8e48-43ecb7271790"
      },
      "execution_count": null,
      "outputs": [
        {
          "output_type": "stream",
          "name": "stderr",
          "text": [
            "/usr/local/lib/python3.7/dist-packages/ipykernel_launcher.py:2: FutureWarning: Indexing with multiple keys (implicitly converted to a tuple of keys) will be deprecated, use a list instead.\n",
            "  \n"
          ]
        },
        {
          "output_type": "execute_result",
          "data": {
            "text/plain": [
              "                                             Price Transmission\n",
              "Make  Year of manufacture Mileage                              \n",
              "Acura 2001                182533.655567  1687500.0    Automatic\n",
              "      2002                200741.000000  1260000.0    Automatic\n",
              "                          236451.000000  1462500.0    Automatic\n",
              "      2003                1.000000        735000.0    Automatic\n",
              "      2004                163082.000000  1560000.0    Automatic\n",
              "...                                            ...          ...\n",
              "Volvo 2007                258928.000000  2835000.0    Automatic\n",
              "      2008                12074.000000   3432000.0    Automatic\n",
              "                          121034.000000  2835000.0    Automatic\n",
              "                          163549.000000  2835000.0    Automatic\n",
              "                          176452.000000  2600000.0    Automatic\n",
              "\n",
              "[2829 rows x 2 columns]"
            ],
            "text/html": [
              "\n",
              "  <div id=\"df-298c8505-38e9-4b25-9c0a-5268031dfc9a\">\n",
              "    <div class=\"colab-df-container\">\n",
              "      <div>\n",
              "<style scoped>\n",
              "    .dataframe tbody tr th:only-of-type {\n",
              "        vertical-align: middle;\n",
              "    }\n",
              "\n",
              "    .dataframe tbody tr th {\n",
              "        vertical-align: top;\n",
              "    }\n",
              "\n",
              "    .dataframe thead th {\n",
              "        text-align: right;\n",
              "    }\n",
              "</style>\n",
              "<table border=\"1\" class=\"dataframe\">\n",
              "  <thead>\n",
              "    <tr style=\"text-align: right;\">\n",
              "      <th></th>\n",
              "      <th></th>\n",
              "      <th></th>\n",
              "      <th>Price</th>\n",
              "      <th>Transmission</th>\n",
              "    </tr>\n",
              "    <tr>\n",
              "      <th>Make</th>\n",
              "      <th>Year of manufacture</th>\n",
              "      <th>Mileage</th>\n",
              "      <th></th>\n",
              "      <th></th>\n",
              "    </tr>\n",
              "  </thead>\n",
              "  <tbody>\n",
              "    <tr>\n",
              "      <th rowspan=\"5\" valign=\"top\">Acura</th>\n",
              "      <th>2001</th>\n",
              "      <th>182533.655567</th>\n",
              "      <td>1687500.0</td>\n",
              "      <td>Automatic</td>\n",
              "    </tr>\n",
              "    <tr>\n",
              "      <th rowspan=\"2\" valign=\"top\">2002</th>\n",
              "      <th>200741.000000</th>\n",
              "      <td>1260000.0</td>\n",
              "      <td>Automatic</td>\n",
              "    </tr>\n",
              "    <tr>\n",
              "      <th>236451.000000</th>\n",
              "      <td>1462500.0</td>\n",
              "      <td>Automatic</td>\n",
              "    </tr>\n",
              "    <tr>\n",
              "      <th>2003</th>\n",
              "      <th>1.000000</th>\n",
              "      <td>735000.0</td>\n",
              "      <td>Automatic</td>\n",
              "    </tr>\n",
              "    <tr>\n",
              "      <th>2004</th>\n",
              "      <th>163082.000000</th>\n",
              "      <td>1560000.0</td>\n",
              "      <td>Automatic</td>\n",
              "    </tr>\n",
              "    <tr>\n",
              "      <th>...</th>\n",
              "      <th>...</th>\n",
              "      <th>...</th>\n",
              "      <td>...</td>\n",
              "      <td>...</td>\n",
              "    </tr>\n",
              "    <tr>\n",
              "      <th rowspan=\"5\" valign=\"top\">Volvo</th>\n",
              "      <th>2007</th>\n",
              "      <th>258928.000000</th>\n",
              "      <td>2835000.0</td>\n",
              "      <td>Automatic</td>\n",
              "    </tr>\n",
              "    <tr>\n",
              "      <th rowspan=\"4\" valign=\"top\">2008</th>\n",
              "      <th>12074.000000</th>\n",
              "      <td>3432000.0</td>\n",
              "      <td>Automatic</td>\n",
              "    </tr>\n",
              "    <tr>\n",
              "      <th>121034.000000</th>\n",
              "      <td>2835000.0</td>\n",
              "      <td>Automatic</td>\n",
              "    </tr>\n",
              "    <tr>\n",
              "      <th>163549.000000</th>\n",
              "      <td>2835000.0</td>\n",
              "      <td>Automatic</td>\n",
              "    </tr>\n",
              "    <tr>\n",
              "      <th>176452.000000</th>\n",
              "      <td>2600000.0</td>\n",
              "      <td>Automatic</td>\n",
              "    </tr>\n",
              "  </tbody>\n",
              "</table>\n",
              "<p>2829 rows × 2 columns</p>\n",
              "</div>\n",
              "      <button class=\"colab-df-convert\" onclick=\"convertToInteractive('df-298c8505-38e9-4b25-9c0a-5268031dfc9a')\"\n",
              "              title=\"Convert this dataframe to an interactive table.\"\n",
              "              style=\"display:none;\">\n",
              "        \n",
              "  <svg xmlns=\"http://www.w3.org/2000/svg\" height=\"24px\"viewBox=\"0 0 24 24\"\n",
              "       width=\"24px\">\n",
              "    <path d=\"M0 0h24v24H0V0z\" fill=\"none\"/>\n",
              "    <path d=\"M18.56 5.44l.94 2.06.94-2.06 2.06-.94-2.06-.94-.94-2.06-.94 2.06-2.06.94zm-11 1L8.5 8.5l.94-2.06 2.06-.94-2.06-.94L8.5 2.5l-.94 2.06-2.06.94zm10 10l.94 2.06.94-2.06 2.06-.94-2.06-.94-.94-2.06-.94 2.06-2.06.94z\"/><path d=\"M17.41 7.96l-1.37-1.37c-.4-.4-.92-.59-1.43-.59-.52 0-1.04.2-1.43.59L10.3 9.45l-7.72 7.72c-.78.78-.78 2.05 0 2.83L4 21.41c.39.39.9.59 1.41.59.51 0 1.02-.2 1.41-.59l7.78-7.78 2.81-2.81c.8-.78.8-2.07 0-2.86zM5.41 20L4 18.59l7.72-7.72 1.47 1.35L5.41 20z\"/>\n",
              "  </svg>\n",
              "      </button>\n",
              "      \n",
              "  <style>\n",
              "    .colab-df-container {\n",
              "      display:flex;\n",
              "      flex-wrap:wrap;\n",
              "      gap: 12px;\n",
              "    }\n",
              "\n",
              "    .colab-df-convert {\n",
              "      background-color: #E8F0FE;\n",
              "      border: none;\n",
              "      border-radius: 50%;\n",
              "      cursor: pointer;\n",
              "      display: none;\n",
              "      fill: #1967D2;\n",
              "      height: 32px;\n",
              "      padding: 0 0 0 0;\n",
              "      width: 32px;\n",
              "    }\n",
              "\n",
              "    .colab-df-convert:hover {\n",
              "      background-color: #E2EBFA;\n",
              "      box-shadow: 0px 1px 2px rgba(60, 64, 67, 0.3), 0px 1px 3px 1px rgba(60, 64, 67, 0.15);\n",
              "      fill: #174EA6;\n",
              "    }\n",
              "\n",
              "    [theme=dark] .colab-df-convert {\n",
              "      background-color: #3B4455;\n",
              "      fill: #D2E3FC;\n",
              "    }\n",
              "\n",
              "    [theme=dark] .colab-df-convert:hover {\n",
              "      background-color: #434B5C;\n",
              "      box-shadow: 0px 1px 3px 1px rgba(0, 0, 0, 0.15);\n",
              "      filter: drop-shadow(0px 1px 2px rgba(0, 0, 0, 0.3));\n",
              "      fill: #FFFFFF;\n",
              "    }\n",
              "  </style>\n",
              "\n",
              "      <script>\n",
              "        const buttonEl =\n",
              "          document.querySelector('#df-298c8505-38e9-4b25-9c0a-5268031dfc9a button.colab-df-convert');\n",
              "        buttonEl.style.display =\n",
              "          google.colab.kernel.accessAllowed ? 'block' : 'none';\n",
              "\n",
              "        async function convertToInteractive(key) {\n",
              "          const element = document.querySelector('#df-298c8505-38e9-4b25-9c0a-5268031dfc9a');\n",
              "          const dataTable =\n",
              "            await google.colab.kernel.invokeFunction('convertToInteractive',\n",
              "                                                     [key], {});\n",
              "          if (!dataTable) return;\n",
              "\n",
              "          const docLinkHtml = 'Like what you see? Visit the ' +\n",
              "            '<a target=\"_blank\" href=https://colab.research.google.com/notebooks/data_table.ipynb>data table notebook</a>'\n",
              "            + ' to learn more about interactive tables.';\n",
              "          element.innerHTML = '';\n",
              "          dataTable['output_type'] = 'display_data';\n",
              "          await google.colab.output.renderOutput(dataTable, element);\n",
              "          const docLink = document.createElement('div');\n",
              "          docLink.innerHTML = docLinkHtml;\n",
              "          element.appendChild(docLink);\n",
              "        }\n",
              "      </script>\n",
              "    </div>\n",
              "  </div>\n",
              "  "
            ]
          },
          "metadata": {},
          "execution_count": 66
        }
      ]
    },
    {
      "cell_type": "markdown",
      "source": [
        "Write a function to bring out the average of each car, which car make has the highest average price?"
      ],
      "metadata": {
        "id": "20-v5Ksu8_vx"
      }
    },
    {
      "cell_type": "code",
      "source": [
        "df['make_average'] = df.groupby(['Make'])['Price'].transform('mean')"
      ],
      "metadata": {
        "id": "j-kxPIzR8-vz"
      },
      "execution_count": null,
      "outputs": []
    },
    {
      "cell_type": "code",
      "source": [
        "def group_make(value):\n",
        "    if value > 9000000:\n",
        "        return 0\n",
        "    elif value > 5000000 and value < 9000000:\n",
        "        return 1\n",
        "    elif value > 3000000 and value < 5000000:\n",
        "        return 2\n",
        "    elif value > 1600000 and value < 3000000:\n",
        "        return 3\n",
        "    else:\n",
        "        return 4"
      ],
      "metadata": {
        "id": "yB_qygQyvyAO"
      },
      "execution_count": null,
      "outputs": []
    },
    {
      "cell_type": "code",
      "source": [
        "df['make_group'] = df.apply(lambda x: group_make(x['make_average']),axis=1)\n",
        "df['make_group']"
      ],
      "metadata": {
        "id": "Jjketghcv3aI",
        "colab": {
          "base_uri": "https://localhost:8080/"
        },
        "outputId": "7f42fbc4-1998-4714-c06d-cb3fab933007"
      },
      "execution_count": null,
      "outputs": [
        {
          "output_type": "execute_result",
          "data": {
            "text/plain": [
              "0       2\n",
              "2       1\n",
              "30      1\n",
              "32      1\n",
              "43      1\n",
              "       ..\n",
              "4090    3\n",
              "4091    2\n",
              "4092    3\n",
              "4093    2\n",
              "4094    2\n",
              "Name: make_group, Length: 3617, dtype: int64"
            ]
          },
          "metadata": {},
          "execution_count": 58
        }
      ]
    },
    {
      "cell_type": "markdown",
      "source": [
        "Select the row with a price at the 76th percentile score"
      ],
      "metadata": {
        "id": "QOXYp8m19Iec"
      }
    },
    {
      "cell_type": "code",
      "source": [
        "# create a new column of percentile rank\n",
        "df['Percentile Rank'] = df.Price.rank(pct = True)\n",
        "  \n",
        "# displaying the percentile rank\n",
        "display(df)"
      ],
      "metadata": {
        "colab": {
          "base_uri": "https://localhost:8080/",
          "height": 679
        },
        "id": "dHkmglQA2ZD6",
        "outputId": "a1699582-8387-4b01-e578-f4b654bfe652"
      },
      "execution_count": null,
      "outputs": [
        {
          "output_type": "display_data",
          "data": {
            "text/plain": [
              "               Make  Year of manufacture      Condition   Mileage  \\\n",
              "0            Toyota                 2007  Nigerian Used  166418.0   \n",
              "2     Mercedes-Benz                 2008  Nigerian Used  376807.0   \n",
              "30            Lexus                 2008   Foreign Used  301265.0   \n",
              "32            Lexus                 2011  Nigerian Used  105546.0   \n",
              "43            Lexus                 2011   Foreign Used  211917.0   \n",
              "...             ...                  ...            ...       ...   \n",
              "4090          Honda                 2004  Nigerian Used  207446.0   \n",
              "4091         Toyota                 2005  Nigerian Used  106914.0   \n",
              "4092          Honda                 2006  Nigerian Used  247149.0   \n",
              "4093         Toyota                 2007  Nigerian Used  249325.0   \n",
              "4094         Toyota                 2013   Foreign Used  235184.0   \n",
              "\n",
              "      Engine Size    Fuel Transmission       Price  make_average  make_group  \\\n",
              "0          2400.0  Petrol    Automatic   3120000.0  3.965571e+06           2   \n",
              "2          3000.0  Petrol    Automatic   3640000.0  6.193198e+06           1   \n",
              "30         3500.0  Petrol    Automatic   4680000.0  5.013312e+06           1   \n",
              "32         4600.0  Petrol    Automatic  14040000.0  5.013312e+06           1   \n",
              "43         3500.0  Petrol    Automatic   6968000.0  5.013312e+06           1   \n",
              "...           ...     ...          ...         ...           ...         ...   \n",
              "4090       3500.0  Petrol    Automatic   1125000.0  2.397785e+06           3   \n",
              "4091       1800.0  Petrol    Automatic   2643750.0  3.965571e+06           2   \n",
              "4092       1800.0  Petrol    Automatic   1462500.0  2.397785e+06           3   \n",
              "4093       2500.0  Petrol    Automatic   2475000.0  3.965571e+06           2   \n",
              "4094       2500.0  Petrol    Automatic   6300000.0  3.965571e+06           2   \n",
              "\n",
              "      Percentile Rank  \n",
              "0            0.545203  \n",
              "2            0.641830  \n",
              "30           0.765828  \n",
              "32           0.968482  \n",
              "43           0.891346  \n",
              "...               ...  \n",
              "4090         0.066630  \n",
              "4091         0.465579  \n",
              "4092         0.136854  \n",
              "4093         0.395217  \n",
              "4094         0.868399  \n",
              "\n",
              "[3617 rows x 11 columns]"
            ],
            "text/html": [
              "\n",
              "  <div id=\"df-679d223c-8f77-4f53-8db9-804eb112bab5\">\n",
              "    <div class=\"colab-df-container\">\n",
              "      <div>\n",
              "<style scoped>\n",
              "    .dataframe tbody tr th:only-of-type {\n",
              "        vertical-align: middle;\n",
              "    }\n",
              "\n",
              "    .dataframe tbody tr th {\n",
              "        vertical-align: top;\n",
              "    }\n",
              "\n",
              "    .dataframe thead th {\n",
              "        text-align: right;\n",
              "    }\n",
              "</style>\n",
              "<table border=\"1\" class=\"dataframe\">\n",
              "  <thead>\n",
              "    <tr style=\"text-align: right;\">\n",
              "      <th></th>\n",
              "      <th>Make</th>\n",
              "      <th>Year of manufacture</th>\n",
              "      <th>Condition</th>\n",
              "      <th>Mileage</th>\n",
              "      <th>Engine Size</th>\n",
              "      <th>Fuel</th>\n",
              "      <th>Transmission</th>\n",
              "      <th>Price</th>\n",
              "      <th>make_average</th>\n",
              "      <th>make_group</th>\n",
              "      <th>Percentile Rank</th>\n",
              "    </tr>\n",
              "  </thead>\n",
              "  <tbody>\n",
              "    <tr>\n",
              "      <th>0</th>\n",
              "      <td>Toyota</td>\n",
              "      <td>2007</td>\n",
              "      <td>Nigerian Used</td>\n",
              "      <td>166418.0</td>\n",
              "      <td>2400.0</td>\n",
              "      <td>Petrol</td>\n",
              "      <td>Automatic</td>\n",
              "      <td>3120000.0</td>\n",
              "      <td>3.965571e+06</td>\n",
              "      <td>2</td>\n",
              "      <td>0.545203</td>\n",
              "    </tr>\n",
              "    <tr>\n",
              "      <th>2</th>\n",
              "      <td>Mercedes-Benz</td>\n",
              "      <td>2008</td>\n",
              "      <td>Nigerian Used</td>\n",
              "      <td>376807.0</td>\n",
              "      <td>3000.0</td>\n",
              "      <td>Petrol</td>\n",
              "      <td>Automatic</td>\n",
              "      <td>3640000.0</td>\n",
              "      <td>6.193198e+06</td>\n",
              "      <td>1</td>\n",
              "      <td>0.641830</td>\n",
              "    </tr>\n",
              "    <tr>\n",
              "      <th>30</th>\n",
              "      <td>Lexus</td>\n",
              "      <td>2008</td>\n",
              "      <td>Foreign Used</td>\n",
              "      <td>301265.0</td>\n",
              "      <td>3500.0</td>\n",
              "      <td>Petrol</td>\n",
              "      <td>Automatic</td>\n",
              "      <td>4680000.0</td>\n",
              "      <td>5.013312e+06</td>\n",
              "      <td>1</td>\n",
              "      <td>0.765828</td>\n",
              "    </tr>\n",
              "    <tr>\n",
              "      <th>32</th>\n",
              "      <td>Lexus</td>\n",
              "      <td>2011</td>\n",
              "      <td>Nigerian Used</td>\n",
              "      <td>105546.0</td>\n",
              "      <td>4600.0</td>\n",
              "      <td>Petrol</td>\n",
              "      <td>Automatic</td>\n",
              "      <td>14040000.0</td>\n",
              "      <td>5.013312e+06</td>\n",
              "      <td>1</td>\n",
              "      <td>0.968482</td>\n",
              "    </tr>\n",
              "    <tr>\n",
              "      <th>43</th>\n",
              "      <td>Lexus</td>\n",
              "      <td>2011</td>\n",
              "      <td>Foreign Used</td>\n",
              "      <td>211917.0</td>\n",
              "      <td>3500.0</td>\n",
              "      <td>Petrol</td>\n",
              "      <td>Automatic</td>\n",
              "      <td>6968000.0</td>\n",
              "      <td>5.013312e+06</td>\n",
              "      <td>1</td>\n",
              "      <td>0.891346</td>\n",
              "    </tr>\n",
              "    <tr>\n",
              "      <th>...</th>\n",
              "      <td>...</td>\n",
              "      <td>...</td>\n",
              "      <td>...</td>\n",
              "      <td>...</td>\n",
              "      <td>...</td>\n",
              "      <td>...</td>\n",
              "      <td>...</td>\n",
              "      <td>...</td>\n",
              "      <td>...</td>\n",
              "      <td>...</td>\n",
              "      <td>...</td>\n",
              "    </tr>\n",
              "    <tr>\n",
              "      <th>4090</th>\n",
              "      <td>Honda</td>\n",
              "      <td>2004</td>\n",
              "      <td>Nigerian Used</td>\n",
              "      <td>207446.0</td>\n",
              "      <td>3500.0</td>\n",
              "      <td>Petrol</td>\n",
              "      <td>Automatic</td>\n",
              "      <td>1125000.0</td>\n",
              "      <td>2.397785e+06</td>\n",
              "      <td>3</td>\n",
              "      <td>0.066630</td>\n",
              "    </tr>\n",
              "    <tr>\n",
              "      <th>4091</th>\n",
              "      <td>Toyota</td>\n",
              "      <td>2005</td>\n",
              "      <td>Nigerian Used</td>\n",
              "      <td>106914.0</td>\n",
              "      <td>1800.0</td>\n",
              "      <td>Petrol</td>\n",
              "      <td>Automatic</td>\n",
              "      <td>2643750.0</td>\n",
              "      <td>3.965571e+06</td>\n",
              "      <td>2</td>\n",
              "      <td>0.465579</td>\n",
              "    </tr>\n",
              "    <tr>\n",
              "      <th>4092</th>\n",
              "      <td>Honda</td>\n",
              "      <td>2006</td>\n",
              "      <td>Nigerian Used</td>\n",
              "      <td>247149.0</td>\n",
              "      <td>1800.0</td>\n",
              "      <td>Petrol</td>\n",
              "      <td>Automatic</td>\n",
              "      <td>1462500.0</td>\n",
              "      <td>2.397785e+06</td>\n",
              "      <td>3</td>\n",
              "      <td>0.136854</td>\n",
              "    </tr>\n",
              "    <tr>\n",
              "      <th>4093</th>\n",
              "      <td>Toyota</td>\n",
              "      <td>2007</td>\n",
              "      <td>Nigerian Used</td>\n",
              "      <td>249325.0</td>\n",
              "      <td>2500.0</td>\n",
              "      <td>Petrol</td>\n",
              "      <td>Automatic</td>\n",
              "      <td>2475000.0</td>\n",
              "      <td>3.965571e+06</td>\n",
              "      <td>2</td>\n",
              "      <td>0.395217</td>\n",
              "    </tr>\n",
              "    <tr>\n",
              "      <th>4094</th>\n",
              "      <td>Toyota</td>\n",
              "      <td>2013</td>\n",
              "      <td>Foreign Used</td>\n",
              "      <td>235184.0</td>\n",
              "      <td>2500.0</td>\n",
              "      <td>Petrol</td>\n",
              "      <td>Automatic</td>\n",
              "      <td>6300000.0</td>\n",
              "      <td>3.965571e+06</td>\n",
              "      <td>2</td>\n",
              "      <td>0.868399</td>\n",
              "    </tr>\n",
              "  </tbody>\n",
              "</table>\n",
              "<p>3617 rows × 11 columns</p>\n",
              "</div>\n",
              "      <button class=\"colab-df-convert\" onclick=\"convertToInteractive('df-679d223c-8f77-4f53-8db9-804eb112bab5')\"\n",
              "              title=\"Convert this dataframe to an interactive table.\"\n",
              "              style=\"display:none;\">\n",
              "        \n",
              "  <svg xmlns=\"http://www.w3.org/2000/svg\" height=\"24px\"viewBox=\"0 0 24 24\"\n",
              "       width=\"24px\">\n",
              "    <path d=\"M0 0h24v24H0V0z\" fill=\"none\"/>\n",
              "    <path d=\"M18.56 5.44l.94 2.06.94-2.06 2.06-.94-2.06-.94-.94-2.06-.94 2.06-2.06.94zm-11 1L8.5 8.5l.94-2.06 2.06-.94-2.06-.94L8.5 2.5l-.94 2.06-2.06.94zm10 10l.94 2.06.94-2.06 2.06-.94-2.06-.94-.94-2.06-.94 2.06-2.06.94z\"/><path d=\"M17.41 7.96l-1.37-1.37c-.4-.4-.92-.59-1.43-.59-.52 0-1.04.2-1.43.59L10.3 9.45l-7.72 7.72c-.78.78-.78 2.05 0 2.83L4 21.41c.39.39.9.59 1.41.59.51 0 1.02-.2 1.41-.59l7.78-7.78 2.81-2.81c.8-.78.8-2.07 0-2.86zM5.41 20L4 18.59l7.72-7.72 1.47 1.35L5.41 20z\"/>\n",
              "  </svg>\n",
              "      </button>\n",
              "      \n",
              "  <style>\n",
              "    .colab-df-container {\n",
              "      display:flex;\n",
              "      flex-wrap:wrap;\n",
              "      gap: 12px;\n",
              "    }\n",
              "\n",
              "    .colab-df-convert {\n",
              "      background-color: #E8F0FE;\n",
              "      border: none;\n",
              "      border-radius: 50%;\n",
              "      cursor: pointer;\n",
              "      display: none;\n",
              "      fill: #1967D2;\n",
              "      height: 32px;\n",
              "      padding: 0 0 0 0;\n",
              "      width: 32px;\n",
              "    }\n",
              "\n",
              "    .colab-df-convert:hover {\n",
              "      background-color: #E2EBFA;\n",
              "      box-shadow: 0px 1px 2px rgba(60, 64, 67, 0.3), 0px 1px 3px 1px rgba(60, 64, 67, 0.15);\n",
              "      fill: #174EA6;\n",
              "    }\n",
              "\n",
              "    [theme=dark] .colab-df-convert {\n",
              "      background-color: #3B4455;\n",
              "      fill: #D2E3FC;\n",
              "    }\n",
              "\n",
              "    [theme=dark] .colab-df-convert:hover {\n",
              "      background-color: #434B5C;\n",
              "      box-shadow: 0px 1px 3px 1px rgba(0, 0, 0, 0.15);\n",
              "      filter: drop-shadow(0px 1px 2px rgba(0, 0, 0, 0.3));\n",
              "      fill: #FFFFFF;\n",
              "    }\n",
              "  </style>\n",
              "\n",
              "      <script>\n",
              "        const buttonEl =\n",
              "          document.querySelector('#df-679d223c-8f77-4f53-8db9-804eb112bab5 button.colab-df-convert');\n",
              "        buttonEl.style.display =\n",
              "          google.colab.kernel.accessAllowed ? 'block' : 'none';\n",
              "\n",
              "        async function convertToInteractive(key) {\n",
              "          const element = document.querySelector('#df-679d223c-8f77-4f53-8db9-804eb112bab5');\n",
              "          const dataTable =\n",
              "            await google.colab.kernel.invokeFunction('convertToInteractive',\n",
              "                                                     [key], {});\n",
              "          if (!dataTable) return;\n",
              "\n",
              "          const docLinkHtml = 'Like what you see? Visit the ' +\n",
              "            '<a target=\"_blank\" href=https://colab.research.google.com/notebooks/data_table.ipynb>data table notebook</a>'\n",
              "            + ' to learn more about interactive tables.';\n",
              "          element.innerHTML = '';\n",
              "          dataTable['output_type'] = 'display_data';\n",
              "          await google.colab.output.renderOutput(dataTable, element);\n",
              "          const docLink = document.createElement('div');\n",
              "          docLink.innerHTML = docLinkHtml;\n",
              "          element.appendChild(docLink);\n",
              "        }\n",
              "      </script>\n",
              "    </div>\n",
              "  </div>\n",
              "  "
            ]
          },
          "metadata": {}
        }
      ]
    },
    {
      "cell_type": "code",
      "source": [
        "df['Price'].quantile(.76)"
      ],
      "metadata": {
        "colab": {
          "base_uri": "https://localhost:8080/"
        },
        "id": "B4GbNt2M9cvI",
        "outputId": "bb818652-16fe-48ba-81a5-b4e04c005498"
      },
      "execution_count": null,
      "outputs": [
        {
          "output_type": "execute_result",
          "data": {
            "text/plain": [
              "4620000.0"
            ]
          },
          "metadata": {},
          "execution_count": 53
        }
      ]
    },
    {
      "cell_type": "code",
      "source": [
        "df[['Engine Size', 'Price']].quantile(.76)"
      ],
      "metadata": {
        "colab": {
          "base_uri": "https://localhost:8080/"
        },
        "id": "fZCZWJ5P-Nay",
        "outputId": "0bf4ac77-d68b-48cc-a9dc-88530d5a5dab"
      },
      "execution_count": null,
      "outputs": [
        {
          "output_type": "execute_result",
          "data": {
            "text/plain": [
              "Engine Size       3500.0\n",
              "Price          4620000.0\n",
              "Name: 0.76, dtype: float64"
            ]
          },
          "metadata": {},
          "execution_count": 56
        }
      ]
    }
  ]
}