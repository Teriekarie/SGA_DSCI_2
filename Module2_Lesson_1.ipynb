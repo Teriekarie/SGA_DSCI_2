{
  "nbformat": 4,
  "nbformat_minor": 0,
  "metadata": {
    "colab": {
      "provenance": [],
      "authorship_tag": "ABX9TyNPJaBKrVsdCI+uYpftv1Hs",
      "include_colab_link": true
    },
    "kernelspec": {
      "name": "python3",
      "display_name": "Python 3"
    },
    "language_info": {
      "name": "python"
    }
  },
  "cells": [
    {
      "cell_type": "markdown",
      "metadata": {
        "id": "view-in-github",
        "colab_type": "text"
      },
      "source": [
        "<a href=\"https://colab.research.google.com/github/Teriekarie/SGA_DSCI_2/blob/main/Module2_Lesson_1.ipynb\" target=\"_parent\"><img src=\"https://colab.research.google.com/assets/colab-badge.svg\" alt=\"Open In Colab\"/></a>"
      ]
    },
    {
      "cell_type": "code",
      "execution_count": 1,
      "metadata": {
        "colab": {
          "base_uri": "https://localhost:8080/"
        },
        "id": "Ur1GJVN_aY7h",
        "outputId": "a1dc1d17-4015-48f2-990a-794508752605"
      },
      "outputs": [
        {
          "output_type": "stream",
          "name": "stdout",
          "text": [
            "Mounted at /content/drive\n"
          ]
        }
      ],
      "source": [
        "from google.colab import drive\n",
        "drive.mount('/content/drive')"
      ]
    },
    {
      "cell_type": "markdown",
      "source": [
        "Import dependencies"
      ],
      "metadata": {
        "id": "yPeUnQQIw3xu"
      }
    },
    {
      "cell_type": "code",
      "source": [
        "import os"
      ],
      "metadata": {
        "id": "YaE4PCDxxAZG"
      },
      "execution_count": 2,
      "outputs": []
    },
    {
      "cell_type": "markdown",
      "source": [
        "Working in your directory create a new folder with a file name Project_1.\n"
      ],
      "metadata": {
        "id": "Ib2MN9p-yhsA"
      }
    },
    {
      "cell_type": "code",
      "source": [
        "# check the current working directory\n",
        "\n",
        "curworkdir =os. getcwd()\n",
        "print (\"The current working directory is\", curworkdir)"
      ],
      "metadata": {
        "colab": {
          "base_uri": "https://localhost:8080/"
        },
        "id": "cBMO8qu_y8tQ",
        "outputId": "a6b98a8d-881d-43c4-bd35-a4afb727c5e1"
      },
      "execution_count": 4,
      "outputs": [
        {
          "output_type": "stream",
          "name": "stdout",
          "text": [
            "The current working directory is /content\n"
          ]
        }
      ]
    },
    {
      "cell_type": "markdown",
      "source": [
        "Changing the current directory"
      ],
      "metadata": {
        "id": "nrBjwYNo7ghL"
      }
    },
    {
      "cell_type": "code",
      "source": [
        "os.chdir('/content/drive/MyDrive/STUTERN 1.3 ASSIGNMENT')\n",
        "curworkdir = os.getcwd()\n",
        "print (curworkdir)"
      ],
      "metadata": {
        "colab": {
          "base_uri": "https://localhost:8080/"
        },
        "id": "1AunstGy8JMr",
        "outputId": "306d7474-0ea6-4c33-ae34-a215d9806ed8"
      },
      "execution_count": 5,
      "outputs": [
        {
          "output_type": "stream",
          "name": "stdout",
          "text": [
            "/content/drive/MyDrive/STUTERN 1.3 ASSIGNMENT\n"
          ]
        }
      ]
    },
    {
      "cell_type": "markdown",
      "source": [
        "Creating a new directory "
      ],
      "metadata": {
        "id": "Wc6hfFT28WoL"
      }
    },
    {
      "cell_type": "code",
      "source": [
        "dirpath = \"/content/drive/MyDrive/STUTERN 1.3 ASSIGNMENT/Project_1\"\n",
        "os.mkdir(dirpath)\n",
        "print (\"Directory is created\")"
      ],
      "metadata": {
        "colab": {
          "base_uri": "https://localhost:8080/"
        },
        "id": "8fLTEZ658dDw",
        "outputId": "3d3f7669-c798-4cd0-9d7b-92725fbd0989"
      },
      "execution_count": 6,
      "outputs": [
        {
          "output_type": "stream",
          "name": "stdout",
          "text": [
            "Directory is created\n"
          ]
        }
      ]
    },
    {
      "cell_type": "markdown",
      "source": [
        "To check that the file has been created, we list out all the file."
      ],
      "metadata": {
        "id": "IqM4lqyN921k"
      }
    },
    {
      "cell_type": "code",
      "source": [
        "print (\"The lists of directories in the above-mentioned location are:\")\n",
        "print(os.listdir(\"/content/drive/MyDrive/STUTERN 1.3 ASSIGNMENT/\"))"
      ],
      "metadata": {
        "colab": {
          "base_uri": "https://localhost:8080/"
        },
        "id": "i1RE6W1u-FZy",
        "outputId": "fe54032b-a92a-4394-bb20-727f24bd6674"
      },
      "execution_count": 7,
      "outputs": [
        {
          "output_type": "stream",
          "name": "stdout",
          "text": [
            "The lists of directories in the above-mentioned location are:\n",
            "['Untitled spreadsheet.gsheet', 'Data sci. Discovery.gdoc', 'Raw_data.gsheet', 'BEGINNERS', 'INTERMEDIATE', 'Theresa', 'Project_1']\n"
          ]
        }
      ]
    }
  ]
}