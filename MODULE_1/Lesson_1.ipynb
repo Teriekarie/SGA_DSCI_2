{
 "cells": [
  {
   "cell_type": "markdown",
   "metadata": {},
   "source": [
    "Use else block to display a message “Done” after successful execution of for loop."
   ]
  },
  {
   "cell_type": "code",
   "execution_count": 1,
   "metadata": {},
   "outputs": [
    {
     "name": "stdout",
     "output_type": "stream",
     "text": [
      "0\n",
      "1\n",
      "2\n",
      "3\n",
      "4\n",
      "5\n",
      "6\n",
      "7\n",
      "8\n",
      "9\n",
      "Done\n"
     ]
    }
   ],
   "source": [
    "for i in range(10):\n",
    "    print(i)\n",
    "\n",
    "    if i == 10:\n",
    "        print(\"Number found within the range\")\n",
    "        break #if 10 is not found in the range then an exception needs to be raised\n",
    "else:\n",
    "    print(\"Done\")"
   ]
  },
  {
   "cell_type": "markdown",
   "metadata": {},
   "source": [
    "Write a program to display all prime numbers within a range."
   ]
  },
  {
   "cell_type": "code",
   "execution_count": 2,
   "metadata": {},
   "outputs": [
    {
     "name": "stdout",
     "output_type": "stream",
     "text": [
      "Prime numbers between 20 and 60 are:\n",
      "23\n",
      "29\n",
      "31\n",
      "37\n",
      "41\n",
      "43\n",
      "47\n",
      "53\n",
      "59\n"
     ]
    }
   ],
   "source": [
    "# allow system to input integers\n",
    "min = int(input(\"Enter the min : \"))\n",
    "max = int(input(\"Enter the max : \"))\n",
    "print(\"Prime numbers between\", min, \"and\", max, \"are:\")\n",
    "for n in range(min,max + 1):\n",
    "   if n > 1:                # all prime numbers are greater than 1\n",
    "       for i in range(2,n):\n",
    "           if (n % i) == 0: # checking for factors\n",
    "               break\n",
    "       else:\n",
    "           print(n)"
   ]
  },
  {
   "cell_type": "markdown",
   "metadata": {},
   "source": [
    "Use a loop to display elements from a given list present at odd index positions.\n"
   ]
  },
  {
   "cell_type": "code",
   "execution_count": 3,
   "metadata": {},
   "outputs": [
    {
     "name": "stdout",
     "output_type": "stream",
     "text": [
      "Enter 10 Numbers: \n",
      "\n",
      "Numbers at Odd Positions: \n",
      "34\n",
      "56\n",
      "78\n",
      "69\n",
      "66\n"
     ]
    }
   ],
   "source": [
    "#Allow system to input numbers\n",
    "num = []\n",
    "print(\"Enter 10 Numbers: \")\n",
    "for i in range(10): \n",
    "    num.insert(i, int(input()))\n",
    "\n",
    "print(\"\\nNumbers at Odd Positions: \")\n",
    "for i in range(10):\n",
    "   if i%2!=0:      #finds the odd index position and prints the array of elements present on the odd position. \n",
    "    print(num[i])"
   ]
  },
  {
   "cell_type": "markdown",
   "metadata": {},
   "source": [
    "Calculate the cube of all numbers from 1 to a given number"
   ]
  },
  {
   "cell_type": "code",
   "execution_count": 4,
   "metadata": {},
   "outputs": [
    {
     "name": "stdout",
     "output_type": "stream",
     "text": [
      "[1, 8, 27, 64, 125, 216, 343, 512, 729]\n"
     ]
    }
   ],
   "source": [
    "#creating an empty list\n",
    "x=[]\n",
    "for i in range(1,10):\n",
    "    #fixing the range to include 1\n",
    "\tx.append(i**3) \n",
    "print(x) "
   ]
  }
 ],
 "metadata": {
  "kernelspec": {
   "display_name": "Python 3.10.5 64-bit",
   "language": "python",
   "name": "python3"
  },
  "language_info": {
   "codemirror_mode": {
    "name": "ipython",
    "version": 3
   },
   "file_extension": ".py",
   "mimetype": "text/x-python",
   "name": "python",
   "nbconvert_exporter": "python",
   "pygments_lexer": "ipython3",
   "version": "3.10.5"
  },
  "orig_nbformat": 4,
  "vscode": {
   "interpreter": {
    "hash": "d93cd445adf2bb3078f4b2ba3eac853304517973ecc2783889974adfc13829bd"
   }
  }
 },
 "nbformat": 4,
 "nbformat_minor": 2
}
