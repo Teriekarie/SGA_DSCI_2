{
 "cells": [
  {
   "cell_type": "markdown",
   "metadata": {},
   "source": [
    "Create a function, that repeats the first 2 letters of a word which will be followed by 3 dots and a space after. The string should be ended with a question mark."
   ]
  },
  {
   "cell_type": "code",
   "execution_count": 1,
   "metadata": {},
   "outputs": [
    {
     "name": "stdout",
     "output_type": "stream",
     "text": [
      "Th... Th... This is Nigeria?\n"
     ]
    }
   ],
   "source": [
    "#create a function to store the variable\n",
    "def words(wordsString):\n",
    "  i = 0\n",
    "  res = []\n",
    "  while i < len(wordsString):\n",
    "      stack = []\n",
    "      if i == 0:\n",
    "          while i <= 1:\n",
    "              stack.append(wordsString[i])\n",
    "              i += 1\n",
    "          stack.append(\"... \")\n",
    "          res.append(\"\".join(stack * 2)) #thihs shows how many times the word is to repeate\n",
    "      i+=1\n",
    "  res.append(wordsString + \"?\")\n",
    "  return \"\".join(res)\n",
    "\n",
    "print(words(\"This is Nigeria\"))"
   ]
  },
  {
   "cell_type": "markdown",
   "metadata": {},
   "source": [
    "Perform a for loop that searches through a string and prints only distinct vowel letters."
   ]
  },
  {
   "cell_type": "code",
   "execution_count": 2,
   "metadata": {},
   "outputs": [
    {
     "name": "stdout",
     "output_type": "stream",
     "text": [
      "The avaialble String to be used: \n",
      " this is nigeriao\n",
      "The distinct vowels in the string:\n",
      "  {'a', 'e', 'i', 'o'}\n"
     ]
    }
   ],
   "source": [
    "#create a variable to store the string\n",
    "strA = \"This is NigeriaO\".lower()\n",
    "\n",
    "print(\"The avaialble String to be used: \\n\",strA)\n",
    "\n",
    "vowels = \"aeiou\" \n",
    "\n",
    "# Get vowels\n",
    "#using set method to first find out all the individual and unique characters \n",
    "#then inside the for loop, test if they are present in the string representing the vowels.\n",
    "\n",
    "vowels_in_strA = set([i for i in strA if i in vowels])\n",
    "\n",
    "print(\"The distinct vowels in the string:\\n \",vowels_in_strA)"
   ]
  },
  {
   "cell_type": "markdown",
   "metadata": {},
   "source": [
    "Perform a while loop that requests for a name, if that name is entered, it will be printed else, if user types “end” (this command should be case insensitive), the while loop is terminated"
   ]
  },
  {
   "cell_type": "code",
   "execution_count": 3,
   "metadata": {},
   "outputs": [
    {
     "name": "stdout",
     "output_type": "stream",
     "text": [
      "Program can now stop\n"
     ]
    }
   ],
   "source": [
    "# create an empty list\n",
    "names = []\n",
    "\n",
    "# Start a loop that will run until the user enters 'end'.\n",
    "while names != 'END':\n",
    "    \n",
    "    # Ask the system for a name.\n",
    "    \n",
    "    names = input(\"What is your name, : \").upper()\n",
    "\n",
    "# Show that the prints outside the loop.\n",
    "print(\"Program can now stop\")"
   ]
  }
 ],
 "metadata": {
  "kernelspec": {
   "display_name": "Python 3.10.5 64-bit",
   "language": "python",
   "name": "python3"
  },
  "language_info": {
   "codemirror_mode": {
    "name": "ipython",
    "version": 3
   },
   "file_extension": ".py",
   "mimetype": "text/x-python",
   "name": "python",
   "nbconvert_exporter": "python",
   "pygments_lexer": "ipython3",
   "version": "3.10.5"
  },
  "orig_nbformat": 4,
  "vscode": {
   "interpreter": {
    "hash": "d93cd445adf2bb3078f4b2ba3eac853304517973ecc2783889974adfc13829bd"
   }
  }
 },
 "nbformat": 4,
 "nbformat_minor": 2
}
